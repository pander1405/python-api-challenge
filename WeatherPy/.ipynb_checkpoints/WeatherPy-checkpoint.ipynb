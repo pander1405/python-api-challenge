{
 "cells": [
  {
   "cell_type": "markdown",
   "metadata": {},
   "source": [
    "# WeatherPy\n",
    "----\n",
    "\n",
    "#### Note\n",
    "* Instructions have been included for each segment. You do not have to follow them exactly, but they are included to help you think through the steps."
   ]
  },
  {
   "cell_type": "code",
   "execution_count": 1,
   "metadata": {
    "scrolled": true
   },
   "outputs": [],
   "source": [
    "# Dependencies and Setup\n",
    "import matplotlib.pyplot as plt\n",
    "import pandas as pd\n",
    "import numpy as np\n",
    "import requests\n",
    "import time\n",
    "from scipy.stats import linregress\n",
    "from pprint import pprint\n",
    "\n",
    "# Import API key\n",
    "from api_keys import weather_api_key\n",
    "\n",
    "# Incorporated citipy to determine city based on latitude and longitude\n",
    "from citipy import citipy\n",
    "\n",
    "# Output File (CSV)\n",
    "output_data_file = \"output_data/cities.csv\"\n",
    "\n",
    "# Range of latitudes and longitudes\n",
    "lat_range = (-90, 90)\n",
    "lng_range = (-180, 180)"
   ]
  },
  {
   "cell_type": "markdown",
   "metadata": {},
   "source": [
    "## Generate Cities List"
   ]
  },
  {
   "cell_type": "code",
   "execution_count": 2,
   "metadata": {},
   "outputs": [
    {
     "data": {
      "text/plain": [
       "622"
      ]
     },
     "execution_count": 2,
     "metadata": {},
     "output_type": "execute_result"
    }
   ],
   "source": [
    "# List for holding lat_lngs and cities\n",
    "lat_lngs = []\n",
    "cities = []\n",
    "\n",
    "# Create a set of random lat and lng combinations\n",
    "lats = np.random.uniform(lat_range[0], lat_range[1], size=1500)\n",
    "lngs = np.random.uniform(lng_range[0], lng_range[1], size=1500)\n",
    "lat_lngs = zip(lats, lngs)\n",
    "\n",
    "# Identify nearest city for each lat, lng combination\n",
    "for lat_lng in lat_lngs:\n",
    "    city = citipy.nearest_city(lat_lng[0], lat_lng[1]).city_name\n",
    "    \n",
    "    # If the city is unique, then add it to a our cities list\n",
    "    if city not in cities:\n",
    "        cities.append(city)\n",
    "\n",
    "# Print the city count to confirm sufficient count\n",
    "len(cities)"
   ]
  },
  {
   "cell_type": "markdown",
   "metadata": {},
   "source": [
    "### Perform API Calls\n",
    "* Perform a weather check on each city using a series of successive API calls.\n",
    "* Include a print log of each city as it'sbeing processed (with the city number and city name).\n"
   ]
  },
  {
   "cell_type": "code",
   "execution_count": 3,
   "metadata": {
    "scrolled": true
   },
   "outputs": [
    {
     "name": "stdout",
     "output_type": "stream",
     "text": [
      "Begin Info Retreival\n",
      "ancud of lat -41.8697 & -73.8203 has temperature 57.2 F and humidity 72 %\n",
      "louisbourg not availble in Weather API\n",
      "tuktoyaktuk of lat 69.4541 & -133.0374 has temperature -16.6 F and humidity 76 %\n",
      "chokurdakh of lat 70.6333 & 147.9167 has temperature -5.39 F and humidity 91 %\n",
      "bengkulu of lat -3.8004 & 102.2655 has temperature 75.63 F and humidity 81 %\n",
      "lavrentiya of lat 65.5833 & -171 has temperature 3.33 F and humidity 91 %\n",
      "rikitea of lat -23.1203 & -134.9692 has temperature 78.91 F and humidity 66 %\n",
      "bacong of lat 9.2464 & 123.2956 has temperature 78.8 F and humidity 83 %\n",
      "mataura of lat -46.1927 & 168.8643 has temperature 70.3 F and humidity 50 %\n",
      "waipawa of lat -41.4122 & 175.5153 has temperature 68 F and humidity 77 %\n",
      "clyde river of lat 70.4692 & -68.5914 has temperature -2.2 F and humidity 92 %\n",
      "nikolskoye of lat 59.7035 & 30.7861 has temperature 5 F and humidity 85 %\n",
      "nouakchott of lat 18.0858 & -15.9785 has temperature 71.6 F and humidity 13 %\n",
      "mahebourg of lat -20.4081 & 57.7 has temperature 78.8 F and humidity 89 %\n",
      "riyadh of lat 24.6877 & 46.7219 has temperature 59 F and humidity 51 %\n",
      "barrow of lat 71.2906 & -156.7887 has temperature -9.4 F and humidity 70 %\n",
      "puerto ayora of lat -0.7393 & -90.3518 has temperature 80.6 F and humidity 69 %\n",
      "dikson of lat 73.5069 & 80.5464 has temperature -31.2 F and humidity 79 %\n",
      "ostersund of lat 63.1792 & 14.6357 has temperature 15.8 F and humidity 100 %\n",
      "vaini of lat -21.2 & -175.2 has temperature 86 F and humidity 79 %\n",
      "tumannyy not availble in Weather API\n",
      "ahipara of lat -35.1667 & 173.1667 has temperature 72.21 F and humidity 51 %\n",
      "thompson of lat 55.7435 & -97.8558 has temperature 5 F and humidity 85 %\n",
      "dunedin of lat -45.8742 & 170.5036 has temperature 64 F and humidity 81 %\n",
      "srednekolymsk of lat 67.45 & 153.6833 has temperature -31.47 F and humidity 82 %\n",
      "talawdi not availble in Weather API\n",
      "faanui of lat -16.4833 & -151.75 has temperature 81.27 F and humidity 74 %\n",
      "camacha of lat 33.0833 & -16.3333 has temperature 57.2 F and humidity 77 %\n",
      "kapaa of lat 22.0752 & -159.319 has temperature 80.01 F and humidity 78 %\n",
      "dongning of lat 44.0622 & 131.1207 has temperature -6.99 F and humidity 84 %\n",
      "busselton of lat -33.65 & 115.3333 has temperature 61 F and humidity 76 %\n",
      "pilao arcado not availble in Weather API\n",
      "vaitupu not availble in Weather API\n",
      "albany of lat 42.6001 & -73.9662 has temperature 39 F and humidity 74 %\n",
      "adrar of lat 20.5022 & -10.0711 has temperature 62.4 F and humidity 26 %\n",
      "kodiak of lat 57.79 & -152.4072 has temperature 33.8 F and humidity 80 %\n",
      "belushya guba not availble in Weather API\n",
      "noumea of lat -22.2763 & 166.4572 has temperature 84 F and humidity 83 %\n",
      "porosozero of lat 62.7191 & 32.727 has temperature -8.82 F and humidity 88 %\n",
      "ballstad not availble in Weather API\n",
      "san felipe of lat 10.3399 & -68.7425 has temperature 74.66 F and humidity 80 %\n",
      "saleaula not availble in Weather API\n",
      "illoqqortoormiut not availble in Weather API\n",
      "port macquarie of lat -31.4333 & 152.9167 has temperature 73.99 F and humidity 42 %\n",
      "wanning of lat 18.8003 & 110.3967 has temperature 67.01 F and humidity 88 %\n",
      "yellowknife of lat 62.456 & -114.3525 has temperature 10.4 F and humidity 92 %\n",
      "ushuaia of lat -54.8 & -68.3 has temperature 66.2 F and humidity 45 %\n",
      "tawkar not availble in Weather API\n",
      "palabuhanratu not availble in Weather API\n",
      "qafsah not availble in Weather API\n",
      "hermanus of lat -34.4187 & 19.2345 has temperature 60.01 F and humidity 87 %\n",
      "toliary not availble in Weather API\n",
      "rawson of lat -43.3002 & -65.1023 has temperature 63.43 F and humidity 73 %\n",
      "kavieng of lat -2.5744 & 150.7967 has temperature 76.26 F and humidity 93 %\n",
      "cockburn town of lat 21.4612 & -71.1419 has temperature 78.8 F and humidity 73 %\n",
      "mar del plata of lat -38.0023 & -57.5575 has temperature 77 F and humidity 65 %\n",
      "quatre cocos of lat -20.2078 & 57.7625 has temperature 80.01 F and humidity 89 %\n",
      "carnarvon of lat -24.8667 & 113.6333 has temperature 78.8 F and humidity 100 %\n",
      "beringovskiy of lat 63.05 & 179.3167 has temperature -11.69 F and humidity 89 %\n",
      "hihifo not availble in Weather API\n",
      "hamilton of lat 39.1834 & -84.5333 has temperature 41 F and humidity 56 %\n",
      "avarua of lat -21.2078 & -159.775 has temperature 78.8 F and humidity 94 %\n",
      "yarada of lat 17.65 & 83.2667 has temperature 69.8 F and humidity 100 %\n",
      "lokachi of lat 50.737 & 24.6494 has temperature 7.9 F and humidity 95 %\n",
      "stromness of lat 58.965 & -3.296 has temperature 39.2 F and humidity 81 %\n",
      "bethel of lat 41.3712 & -73.414 has temperature 39.99 F and humidity 81 %\n",
      "kruisfontein of lat -34.0033 & 24.7314 has temperature 71.01 F and humidity 71 %\n",
      "butaritari of lat 3.0707 & 172.7902 has temperature 81.18 F and humidity 79 %\n",
      "ciudad bolivar of lat 8.1222 & -63.5497 has temperature 86.16 F and humidity 49 %\n",
      "faya of lat 18.3851 & 42.4509 has temperature 53.6 F and humidity 81 %\n",
      "saint george of lat 37.1041 & -113.5841 has temperature 64 F and humidity 17 %\n",
      "carahue of lat -38.7 & -73.1667 has temperature 64.4 F and humidity 55 %\n",
      "port alfred of lat -33.5906 & 26.891 has temperature 68 F and humidity 87 %\n",
      "muzaffarabad of lat 34.37 & 73.4711 has temperature 48.83 F and humidity 43 %\n",
      "goderich of lat 43.7501 & -81.7165 has temperature 37.4 F and humidity 81 %\n",
      "jamestown of lat 42.097 & -79.2353 has temperature 37.99 F and humidity 75 %\n",
      "cowansville of lat 45.2001 & -72.7491 has temperature 35.6 F and humidity 75 %\n",
      "la ronge of lat 55.1001 & -105.2842 has temperature 19.4 F and humidity 79 %\n",
      "mys shmidta not availble in Weather API\n",
      "attawapiskat not availble in Weather API\n",
      "cidreira of lat -30.1811 & -50.2056 has temperature 76.51 F and humidity 83 %\n",
      "puerto rondon of lat 6.2805 & -71.1 has temperature 83.41 F and humidity 64 %\n",
      "hilo of lat 19.7297 & -155.09 has temperature 84.2 F and humidity 51 %\n",
      "cherskiy of lat 68.75 & 161.3 has temperature -22.23 F and humidity 87 %\n",
      "dudinka of lat 69.4058 & 86.1778 has temperature -39.39 F and humidity 79 %\n",
      "mullaitivu not availble in Weather API\n",
      "campina verde of lat -19.5356 & -49.4864 has temperature 76.46 F and humidity 71 %\n",
      "ribeira grande of lat 38.5167 & -28.7 has temperature 60.8 F and humidity 88 %\n",
      "marsh harbour of lat 26.5412 & -77.0636 has temperature 75.38 F and humidity 76 %\n",
      "coahuayana of lat 18.7333 & -103.6833 has temperature 84.2 F and humidity 34 %\n",
      "katsuura of lat 35.1333 & 140.3 has temperature 55.99 F and humidity 93 %\n",
      "punta arenas of lat -53.15 & -70.9167 has temperature 53.6 F and humidity 82 %\n",
      "salalah of lat 17.0151 & 54.0924 has temperature 69.8 F and humidity 40 %\n",
      "sinnamary of lat 5.3833 & -52.95 has temperature 77.43 F and humidity 87 %\n",
      "ginda of lat 30.6945 & 78.4932 has temperature 46.33 F and humidity 40 %\n",
      "nishihara of lat 26.1842 & 127.7558 has temperature 66.2 F and humidity 72 %\n",
      "san policarpo of lat 12.1791 & 125.5072 has temperature 80.76 F and humidity 84 %\n",
      "atuona of lat -9.8 & -139.0333 has temperature 77.36 F and humidity 79 %\n",
      "klyuchi of lat 52.2667 & 79.1667 has temperature -9.94 F and humidity 85 %\n",
      "mount gambier of lat -37.8333 & 140.7667 has temperature 55.4 F and humidity 76 %\n",
      "alofi of lat -19.0595 & -169.9187 has temperature 86 F and humidity 74 %\n",
      "jurm of lat 36.8648 & 70.8342 has temperature 32.79 F and humidity 53 %\n",
      "howard springs of lat -12.497 & 131.047 has temperature 80.01 F and humidity 89 %\n",
      "hobart of lat -42.8794 & 147.3294 has temperature 57.2 F and humidity 62 %\n",
      "sulangan of lat 11.1373 & 123.7228 has temperature 80.67 F and humidity 84 %\n",
      "new norfolk of lat -42.7826 & 147.0587 has temperature 57 F and humidity 70 %\n",
      "santa cruz of lat -17.8 & -63.1667 has temperature 80.6 F and humidity 78 %\n",
      "nanortalik of lat 60.1432 & -45.2371 has temperature 28.8 F and humidity 96 %\n",
      "teahupoo of lat -17.8333 & -149.2667 has temperature 84.2 F and humidity 65 %\n",
      "khatanga of lat 71.9667 & 102.5 has temperature -46.73 F and humidity 77 %\n",
      "whitianga of lat -36.8333 & 175.7 has temperature 71.8 F and humidity 54 %\n",
      "cayenne of lat 4.9333 & -52.3333 has temperature 78.8 F and humidity 94 %\n",
      "amderma not availble in Weather API\n",
      "kiunga of lat -6.1219 & 141.2906 has temperature 73.6 F and humidity 98 %\n",
      "esperance of lat -33.8667 & 121.9 has temperature 59 F and humidity 63 %\n",
      "portland of lat 45.5234 & -122.6762 has temperature 50 F and humidity 81 %\n",
      "lakes entrance of lat -37.8811 & 147.981 has temperature 63 F and humidity 63 %\n",
      "port elizabeth of lat -33.918 & 25.5701 has temperature 71.6 F and humidity 64 %\n"
     ]
    },
    {
     "name": "stdout",
     "output_type": "stream",
     "text": [
      "taolanaro not availble in Weather API\n",
      "kautokeino of lat 69.0125 & 23.0412 has temperature 22.01 F and humidity 94 %\n",
      "mackay of lat -21.15 & 149.2 has temperature 82 F and humidity 83 %\n",
      "gambela of lat 8.25 & 34.5833 has temperature 80.13 F and humidity 26 %\n",
      "iqaluit of lat 63.7506 & -68.5145 has temperature 12.2 F and humidity 79 %\n",
      "victoria of lat 22.2855 & 114.1577 has temperature 62.01 F and humidity 63 %\n",
      "ilulissat of lat 69.2167 & -51.1 has temperature 12.2 F and humidity 67 %\n",
      "laguna of lat 38.421 & -121.4238 has temperature 64.99 F and humidity 67 %\n",
      "marystown of lat 47.1666 & -55.1483 has temperature 33.22 F and humidity 89 %\n",
      "komsomolskiy of lat 40.4272 & 71.7189 has temperature 32 F and humidity 69 %\n",
      "turka of lat 49.1541 & 23.0297 has temperature 21 F and humidity 84 %\n",
      "gastello of lat 49.1167 & 142.9667 has temperature -5.35 F and humidity 86 %\n",
      "luderitz of lat -26.6481 & 15.1594 has temperature 65.35 F and humidity 77 %\n",
      "owensboro of lat 37.7742 & -87.1133 has temperature 41 F and humidity 86 %\n",
      "khorixas of lat -20.3667 & 14.9667 has temperature 64.08 F and humidity 77 %\n",
      "klaipeda of lat 55.7172 & 21.1175 has temperature 17.6 F and humidity 79 %\n",
      "berja of lat 36.8469 & -2.9497 has temperature 48.2 F and humidity 76 %\n",
      "lebu of lat -37.6167 & -73.65 has temperature 59.81 F and humidity 69 %\n",
      "fortuna of lat 40.5982 & -124.1573 has temperature 60.01 F and humidity 88 %\n",
      "hovd of lat 48.0056 & 91.6419 has temperature -4.49 F and humidity 67 %\n",
      "kanchanaburi of lat 14.6333 & 99.1 has temperature 67.19 F and humidity 65 %\n",
      "castro of lat -24.7911 & -50.0119 has temperature 67.23 F and humidity 92 %\n",
      "jangaon of lat 17.7167 & 79.1833 has temperature 65.77 F and humidity 79 %\n",
      "cuiluan of lat 47.72 & 128.648 has temperature -16.55 F and humidity 86 %\n",
      "saint cloud of lat 45.5608 & -94.1625 has temperature 34 F and humidity 86 %\n",
      "cape town of lat -33.9258 & 18.4232 has temperature 66.99 F and humidity 88 %\n",
      "pevek of lat 69.7008 & 170.3133 has temperature -7.74 F and humidity 87 %\n",
      "akom of lat 2.6678 & 12.7109 has temperature 71.01 F and humidity 68 %\n",
      "hambantota of lat 6.1241 & 81.1185 has temperature 75.2 F and humidity 100 %\n",
      "dinsor not availble in Weather API\n",
      "severo-kurilsk of lat 50.6789 & 156.125 has temperature 27.37 F and humidity 93 %\n",
      "bluff of lat -46.6 & 168.3333 has temperature 59.22 F and humidity 83 %\n",
      "antalya of lat 36.7741 & 30.7178 has temperature 46.4 F and humidity 81 %\n",
      "kaupanger of lat 61.1845 & 7.2404 has temperature 13.98 F and humidity 77 %\n",
      "tengushevo of lat 54.7686 & 42.7189 has temperature 12.16 F and humidity 96 %\n",
      "sao felix do xingu of lat -6.6447 & -51.995 has temperature 75.45 F and humidity 93 %\n",
      "saint-pierre of lat -21.3393 & 55.4781 has temperature 78.8 F and humidity 89 %\n",
      "bracebridge of lat 45.0334 & -79.3163 has temperature 35.6 F and humidity 80 %\n",
      "pedernales of lat 18.0384 & -71.744 has temperature 79.65 F and humidity 66 %\n",
      "namibe of lat -15.1961 & 12.1522 has temperature 74.32 F and humidity 68 %\n",
      "tignere of lat 7.3667 & 12.65 has temperature 64.44 F and humidity 27 %\n",
      "san jose of lat 37.3394 & -121.895 has temperature 72 F and humidity 45 %\n",
      "balaipungut of lat 1.05 & 101.2833 has temperature 75.2 F and humidity 94 %\n",
      "rosario of lat -32.9468 & -60.6393 has temperature 77 F and humidity 78 %\n",
      "jiuquan of lat 39.7432 & 98.5174 has temperature 8.83 F and humidity 79 %\n",
      "sanford of lat 28.8006 & -81.2731 has temperature 72 F and humidity 62 %\n",
      "north platte of lat 41.1239 & -100.7654 has temperature 37.4 F and humidity 41 %\n",
      "sao filipe of lat 14.8961 & -24.4956 has temperature 72.73 F and humidity 68 %\n",
      "yulara of lat -25.2406 & 130.9889 has temperature 66.2 F and humidity 59 %\n",
      "eureka of lat 40.8021 & -124.1637 has temperature 60.01 F and humidity 94 %\n",
      "sao gabriel da cachoeira of lat -0.1303 & -67.0892 has temperature 81.23 F and humidity 81 %\n",
      "alta of lat 69.9689 & 23.2717 has temperature 35.6 F and humidity 87 %\n",
      "ayr of lat 55.4627 & -4.6339 has temperature 37.4 F and humidity 93 %\n",
      "lodwar of lat 3.1191 & 35.5973 has temperature 82.99 F and humidity 41 %\n",
      "los llanos de aridane of lat 28.6585 & -17.9182 has temperature 62.6 F and humidity 55 %\n",
      "samusu not availble in Weather API\n",
      "qaanaaq of lat 77.484 & -69.3632 has temperature 8.33 F and humidity 92 %\n",
      "non thai of lat 15.1981 & 102.0358 has temperature 64 F and humidity 99 %\n",
      "chuy of lat -33.6971 & -53.4616 has temperature 74.16 F and humidity 79 %\n",
      "kuche not availble in Weather API\n",
      "narsaq of lat 60.9167 & -46.05 has temperature 23 F and humidity 50 %\n",
      "vincennes of lat 48.85 & 2.4333 has temperature 34 F and humidity 74 %\n",
      "stykkisholmur of lat 65.0757 & -22.7297 has temperature 33.24 F and humidity 93 %\n",
      "bambous virieux of lat -20.3428 & 57.7575 has temperature 80.01 F and humidity 89 %\n",
      "bilma of lat 18.6853 & 12.9164 has temperature 65.62 F and humidity 26 %\n",
      "vanavara of lat 60.34 & 102.2797 has temperature -38.9 F and humidity 77 %\n",
      "georgetown of lat 5.4112 & 100.3354 has temperature 78.01 F and humidity 88 %\n",
      "port hedland of lat -20.3167 & 118.5667 has temperature 86 F and humidity 79 %\n",
      "hala of lat 25.8131 & 68.4227 has temperature 46.4 F and humidity 87 %\n",
      "gander of lat 48.9682 & -54.5906 has temperature 28.4 F and humidity 86 %\n",
      "ossora of lat 59.2353 & 163.0719 has temperature -17.82 F and humidity 82 %\n",
      "kutum of lat 14.2 & 24.6667 has temperature 53.8 F and humidity 39 %\n",
      "plettenberg bay of lat -34.0527 & 23.3716 has temperature 68.2 F and humidity 74 %\n",
      "miraflores of lat 19.2167 & -98.8083 has temperature 69.8 F and humidity 30 %\n",
      "kahului of lat 20.8947 & -156.47 has temperature 87.8 F and humidity 45 %\n",
      "meiganga of lat 6.5167 & 14.3 has temperature 60.08 F and humidity 33 %\n",
      "tavda of lat 58.0425 & 65.2726 has temperature 12.31 F and humidity 96 %\n",
      "masterton of lat -40.9597 & 175.6575 has temperature 71.01 F and humidity 80 %\n",
      "krasnystaw of lat 50.9846 & 23.1742 has temperature 8.6 F and humidity 100 %\n",
      "lagoa of lat 39.05 & -27.9833 has temperature 60.67 F and humidity 86 %\n",
      "burnie of lat -41.0667 & 145.9167 has temperature 53.01 F and humidity 65 %\n",
      "vila of lat 42.0304 & -8.1588 has temperature 33.01 F and humidity 81 %\n",
      "dolbeau not availble in Weather API\n",
      "mandla of lat 22.6 & 80.3833 has temperature 49.96 F and humidity 42 %\n",
      "kargasok of lat 59.0556 & 80.8572 has temperature 3.16 F and humidity 94 %\n",
      "east london of lat -33.0153 & 27.9116 has temperature 72.12 F and humidity 74 %\n",
      "vallam of lat 10.7167 & 79.0833 has temperature 75.2 F and humidity 94 %\n",
      "pangnirtung of lat 66.1451 & -65.7125 has temperature 3.2 F and humidity 78 %\n",
      "touros of lat -5.1989 & -35.4608 has temperature 78.8 F and humidity 78 %\n",
      "hithadhoo of lat -0.6 & 73.0833 has temperature 81.23 F and humidity 78 %\n",
      "lolua not availble in Weather API\n",
      "tarauaca of lat -8.1614 & -70.7656 has temperature 79.97 F and humidity 91 %\n",
      "saint-augustin of lat 51.226 & -58.6502 has temperature 24.15 F and humidity 92 %\n",
      "batsfjord of lat 70.6345 & 29.7185 has temperature 37.4 F and humidity 93 %\n",
      "santa isabel do rio negro of lat -0.4139 & -65.0192 has temperature 84.13 F and humidity 71 %\n",
      "gawler of lat -34.6 & 138.7333 has temperature 62.01 F and humidity 51 %\n",
      "hirara of lat 24.8 & 125.2833 has temperature 68 F and humidity 77 %\n",
      "ngukurr not availble in Weather API\n",
      "ano mera of lat 37.45 & 25.4 has temperature 86 F and humidity 57 %\n",
      "biak of lat -0.9131 & 122.8766 has temperature 77.41 F and humidity 79 %\n",
      "cedro of lat -6.6067 & -39.0622 has temperature 82.45 F and humidity 35 %\n",
      "saint-philippe of lat -21.3585 & 55.7679 has temperature 78.8 F and humidity 89 %\n",
      "san miguel of lat 13.4833 & -88.1833 has temperature 93.2 F and humidity 43 %\n",
      "sentyabrskiy not availble in Weather API\n",
      "maghama not availble in Weather API\n",
      "ormond beach of lat 29.2858 & -81.0559 has temperature 71.01 F and humidity 60 %\n",
      "khuzhir of lat 53.1939 & 107.3397 has temperature 3.88 F and humidity 83 %\n",
      "porto novo of lat 6.4965 & 2.6036 has temperature 82.4 F and humidity 89 %\n",
      "bosaso of lat 11.2842 & 49.1816 has temperature 73.83 F and humidity 73 %\n",
      "hobyo of lat 5.3505 & 48.5268 has temperature 76.12 F and humidity 83 %\n",
      "saldanha of lat -33.0117 & 17.9442 has temperature 64.4 F and humidity 82 %\n",
      "pangody of lat 65.85 & 74.4859 has temperature -1.07 F and humidity 93 %\n",
      "bredasdorp of lat -34.5322 & 20.0403 has temperature 66.2 F and humidity 68 %\n",
      "bolshaya dzhalga of lat 45.9695 & 42.6966 has temperature 27.43 F and humidity 98 %\n"
     ]
    },
    {
     "name": "stdout",
     "output_type": "stream",
     "text": [
      "svetlogorsk of lat 52.6333 & 29.7333 has temperature 3.79 F and humidity 93 %\n",
      "kotdwara of lat 29.75 & 78.5333 has temperature 52.81 F and humidity 59 %\n",
      "upernavik of lat 72.7868 & -56.1549 has temperature 14.77 F and humidity 96 %\n",
      "kumla of lat 59.1277 & 15.1434 has temperature 15.8 F and humidity 86 %\n",
      "nizhneyansk not availble in Weather API\n",
      "tevaitoa of lat -16.7833 & -151.5 has temperature 81.28 F and humidity 74 %\n",
      "leningradskiy of lat 69.3833 & 178.4167 has temperature -10.84 F and humidity 89 %\n",
      "kayerkan of lat 69.3497 & 87.7602 has temperature -36.89 F and humidity 77 %\n",
      "hasaki of lat 35.7333 & 140.8333 has temperature 39.2 F and humidity 100 %\n",
      "sitka of lat 57.0531 & -135.33 has temperature 44.6 F and humidity 81 %\n",
      "tiksi of lat 71.6872 & 128.8694 has temperature -8.79 F and humidity 91 %\n",
      "kingaroy of lat -26.5333 & 151.8333 has temperature 77 F and humidity 65 %\n",
      "high rock of lat 26.6208 & -78.2833 has temperature 69.8 F and humidity 83 %\n",
      "soe of lat -9.8607 & 124.284 has temperature 68.02 F and humidity 100 %\n",
      "andros town of lat 24.7 & -77.7667 has temperature 75.2 F and humidity 88 %\n",
      "arraial do cabo of lat -22.9661 & -42.0278 has temperature 80.6 F and humidity 78 %\n",
      "norman wells of lat 65.282 & -126.8329 has temperature 5 F and humidity 85 %\n",
      "nova olimpia of lat -14.7972 & -57.2881 has temperature 80.33 F and humidity 78 %\n",
      "amahai of lat -3.3333 & 128.9167 has temperature 84 F and humidity 87 %\n",
      "villacarrillo of lat 38.1156 & -3.0848 has temperature 32.63 F and humidity 89 %\n",
      "alberton of lat 46.8168 & -64.0654 has temperature 30.2 F and humidity 93 %\n",
      "jacutinga of lat -22.2856 & -46.6122 has temperature 77 F and humidity 71 %\n",
      "jujuy not availble in Weather API\n",
      "gilgit of lat 35.9221 & 74.3087 has temperature 31.05 F and humidity 42 %\n",
      "constitucion of lat -35.3333 & -72.4167 has temperature 63.75 F and humidity 56 %\n",
      "barentsburg not availble in Weather API\n",
      "tucuman of lat -26.8241 & -65.2226 has temperature 91.4 F and humidity 62 %\n",
      "uruzgan of lat 32.8333 & 66 has temperature 38.98 F and humidity 54 %\n",
      "manta of lat -0.95 & -80.7333 has temperature 80.6 F and humidity 78 %\n",
      "dharapuram of lat 10.7333 & 77.5167 has temperature 71.6 F and humidity 94 %\n",
      "natal of lat -5.795 & -35.2094 has temperature 80.6 F and humidity 74 %\n",
      "wad rawah of lat 15.1603 & 33.1397 has temperature 67.21 F and humidity 25 %\n",
      "grand-santi of lat 4.25 & -54.3833 has temperature 74.79 F and humidity 96 %\n",
      "mpika of lat -11.8343 & 31.4529 has temperature 62.04 F and humidity 97 %\n",
      "acapulco of lat 16.8634 & -99.8901 has temperature 80.6 F and humidity 83 %\n",
      "camargo of lat 27.6667 & -105.1667 has temperature 68.99 F and humidity 21 %\n",
      "aklavik of lat 68.2191 & -135.0107 has temperature -11.2 F and humidity 77 %\n",
      "tuatapere of lat -46.1333 & 167.6833 has temperature 66.13 F and humidity 52 %\n",
      "ponta do sol of lat 32.6667 & -17.1 has temperature 52 F and humidity 64 %\n",
      "olafsvik of lat 64.8945 & -23.7142 has temperature 36.25 F and humidity 84 %\n",
      "pho thong of lat 14.6673 & 100.4088 has temperature 70 F and humidity 73 %\n",
      "mlonggo of lat -6.5333 & 110.7 has temperature 77 F and humidity 88 %\n",
      "riachao das neves of lat -11.7461 & -44.91 has temperature 74.08 F and humidity 85 %\n",
      "grenaa of lat 56.4158 & 10.8783 has temperature 26.6 F and humidity 86 %\n",
      "pisco of lat -13.7 & -76.2167 has temperature 75.2 F and humidity 73 %\n",
      "houma of lat 29.5958 & -90.7195 has temperature 59 F and humidity 30 %\n",
      "port blair of lat 11.6667 & 92.75 has temperature 76.77 F and humidity 81 %\n",
      "pimentel of lat -6.8367 & -79.9342 has temperature 75.2 F and humidity 64 %\n",
      "cam pha not availble in Weather API\n",
      "provideniya of lat 64.3833 & -173.3 has temperature 13.14 F and humidity 93 %\n",
      "fortuna foothills of lat 32.6578 & -114.4119 has temperature 80.6 F and humidity 9 %\n",
      "merauke of lat -8.4667 & 140.3333 has temperature 78.91 F and humidity 89 %\n",
      "nuuk of lat 64.1835 & -51.7216 has temperature 24.8 F and humidity 54 %\n",
      "karamea not availble in Weather API\n",
      "kampong cham of lat 11.9934 & 105.4635 has temperature 67.12 F and humidity 90 %\n",
      "jacareacanga of lat -6.2222 & -57.7528 has temperature 77.32 F and humidity 94 %\n",
      "milkovo of lat 54.7167 & 158.6167 has temperature -3.39 F and humidity 86 %\n",
      "lasa of lat 46.6166 & 10.7002 has temperature 26.6 F and humidity 79 %\n",
      "lodja of lat -3.4833 & 23.4333 has temperature 66.72 F and humidity 97 %\n",
      "dalbandin of lat 28.8947 & 64.4101 has temperature 48.15 F and humidity 36 %\n",
      "high level of lat 58.5169 & -117.136 has temperature 23 F and humidity 93 %\n",
      "calamar of lat 10.2511 & -74.9146 has temperature 86 F and humidity 74 %\n",
      "jasper of lat 37.2001 & -94.3502 has temperature 33.8 F and humidity 80 %\n",
      "prainha of lat -1.8 & -53.48 has temperature 84.25 F and humidity 49 %\n",
      "khasan of lat 42.4308 & 130.6434 has temperature 8.22 F and humidity 86 %\n",
      "hofn of lat 64.2539 & -15.2082 has temperature 38.91 F and humidity 93 %\n",
      "mossendjo of lat -2.9506 & 12.7261 has temperature 69.58 F and humidity 96 %\n",
      "coquimbo of lat -29.9533 & -71.3436 has temperature 64.4 F and humidity 68 %\n",
      "chapais of lat 49.7834 & -74.8492 has temperature 26.6 F and humidity 86 %\n",
      "padang of lat -0.9492 & 100.3543 has temperature 75.65 F and humidity 69 %\n",
      "chicama of lat -7.8447 & -79.1469 has temperature 72.54 F and humidity 73 %\n",
      "rio grande of lat -32.035 & -52.0986 has temperature 77 F and humidity 88 %\n",
      "kaitangata of lat -46.2817 & 169.8464 has temperature 66.99 F and humidity 70 %\n",
      "talnakh of lat 69.4865 & 88.3972 has temperature -36.09 F and humidity 73 %\n",
      "rincon of lat 32.296 & -81.2354 has temperature 55.4 F and humidity 94 %\n",
      "maceio of lat -9.6658 & -35.7353 has temperature 77 F and humidity 83 %\n",
      "buala of lat -8.145 & 159.5921 has temperature 83.23 F and humidity 75 %\n",
      "zhanatas not availble in Weather API\n",
      "davila of lat 18.4726 & 120.5763 has temperature 73.4 F and humidity 73 %\n",
      "tanda of lat 26.55 & 82.65 has temperature 49.41 F and humidity 71 %\n",
      "port hardy of lat 50.6996 & -127.4199 has temperature 48.2 F and humidity 87 %\n",
      "saskylakh of lat 71.9167 & 114.0833 has temperature -22.25 F and humidity 85 %\n",
      "baruun-urt of lat 46.6806 & 113.2792 has temperature -13.2 F and humidity 83 %\n",
      "sur of lat 22.5667 & 59.5289 has temperature 65.59 F and humidity 62 %\n",
      "lerwick of lat 60.1545 & -1.1494 has temperature 42.8 F and humidity 81 %\n",
      "oranjemund of lat -28.55 & 16.4333 has temperature 63.73 F and humidity 82 %\n",
      "lahat of lat -3.8 & 103.5333 has temperature 71.44 F and humidity 88 %\n",
      "sistranda of lat 63.7256 & 8.834 has temperature 26.6 F and humidity 86 %\n",
      "las vegas of lat 36.175 & -115.1372 has temperature 68 F and humidity 14 %\n",
      "kloulklubed of lat 7.0419 & 134.2556 has temperature 80.6 F and humidity 78 %\n",
      "jardim of lat -21.4803 & -56.1381 has temperature 78.06 F and humidity 89 %\n",
      "goma of lat -1.6792 & 29.2228 has temperature 63.36 F and humidity 82 %\n",
      "pacific grove of lat 36.6177 & -121.9166 has temperature 73 F and humidity 43 %\n",
      "saint-francois of lat 46.4154 & 3.9054 has temperature 32 F and humidity 80 %\n",
      "pampa of lat 35.5362 & -100.9599 has temperature 46.4 F and humidity 12 %\n",
      "tarrafal of lat 15.2833 & -23.7667 has temperature 71.6 F and humidity 73 %\n",
      "anloga of lat 5.7947 & 0.8973 has temperature 80.6 F and humidity 89 %\n",
      "geraldton of lat -28.7667 & 114.6 has temperature 80.6 F and humidity 44 %\n",
      "vila velha of lat -20.3297 & -40.2925 has temperature 79 F and humidity 78 %\n",
      "saryozek of lat 44.3583 & 77.9753 has temperature 25.83 F and humidity 73 %\n",
      "tsihombe not availble in Weather API\n",
      "smithers of lat 54.7804 & -127.1743 has temperature 42.8 F and humidity 52 %\n",
      "asau of lat 46.4333 & 26.4 has temperature 21.2 F and humidity 79 %\n",
      "vao of lat -22.6667 & 167.4833 has temperature 78.12 F and humidity 90 %\n",
      "ostrovnoy of lat 68.0531 & 39.5131 has temperature 14.88 F and humidity 94 %\n",
      "kieta of lat -6.2167 & 155.6333 has temperature 83.97 F and humidity 66 %\n",
      "armacao dos buzios not availble in Weather API\n",
      "coihaique of lat -45.5752 & -72.0662 has temperature 57.2 F and humidity 82 %\n",
      "yabrud of lat 33.9674 & 36.6574 has temperature 43 F and humidity 87 %\n",
      "honiara of lat -9.4333 & 159.95 has temperature 83.88 F and humidity 69 %\n",
      "karlskoga of lat 59.3267 & 14.5239 has temperature 15.8 F and humidity 86 %\n",
      "vanimo of lat -2.6741 & 141.3028 has temperature 79.45 F and humidity 84 %\n",
      "naftah not availble in Weather API\n",
      "tasiilaq of lat 65.6145 & -37.6368 has temperature 32 F and humidity 93 %\n"
     ]
    },
    {
     "name": "stdout",
     "output_type": "stream",
     "text": [
      "petropavlovsk-kamchatskiy of lat 53.0452 & 158.6483 has temperature -4 F and humidity 77 %\n",
      "taksimo of lat 56.3444 & 114.8794 has temperature -17.9 F and humidity 80 %\n",
      "fort saint john not availble in Weather API\n",
      "san cristobal of lat 7.7669 & -72.225 has temperature 84.2 F and humidity 61 %\n",
      "iralaya of lat 15 & -83.2333 has temperature 79.74 F and humidity 78 %\n",
      "khandyga of lat 62.6667 & 135.6 has temperature -48.26 F and humidity 76 %\n",
      "karratha of lat -20.7377 & 116.8463 has temperature 86.58 F and humidity 77 %\n",
      "kousseri of lat 12.0769 & 15.0306 has temperature 69.8 F and humidity 32 %\n",
      "little current of lat 45.9793 & -81.9248 has temperature 35.6 F and humidity 75 %\n",
      "kabinda of lat -6.1333 & 24.4833 has temperature 65.17 F and humidity 99 %\n",
      "sergeyevka of lat 53.88 & 67.4158 has temperature 11.95 F and humidity 91 %\n",
      "chavakkad of lat 10.5333 & 76.05 has temperature 75.2 F and humidity 88 %\n",
      "tromso of lat 69.6496 & 18.957 has temperature 33.8 F and humidity 93 %\n",
      "ola of lat 59.5833 & 151.2833 has temperature -18.92 F and humidity 76 %\n",
      "dingle of lat 10.9995 & 122.6711 has temperature 74.66 F and humidity 92 %\n",
      "longyearbyen of lat 78.2186 & 15.6401 has temperature 17.6 F and humidity 86 %\n",
      "bathsheba of lat 13.2167 & -59.5167 has temperature 78.8 F and humidity 69 %\n",
      "kaoma of lat -14.7833 & 24.8 has temperature 63.86 F and humidity 95 %\n",
      "zhigansk of lat 66.7697 & 123.3711 has temperature -38.36 F and humidity 79 %\n",
      "turiacu of lat -1.6633 & -45.3717 has temperature 77.7 F and humidity 78 %\n",
      "roebourne of lat -20.7833 & 117.1333 has temperature 86.61 F and humidity 75 %\n",
      "qandala of lat 11.472 & 49.8728 has temperature 73.83 F and humidity 68 %\n",
      "kavaratti of lat 10.5669 & 72.642 has temperature 81.41 F and humidity 73 %\n",
      "chalchihuites of lat 23.4833 & -103.8833 has temperature 66.09 F and humidity 21 %\n",
      "bilibino of lat 68.0546 & 166.4372 has temperature -20.29 F and humidity 84 %\n",
      "teguldet of lat 57.3064 & 88.1667 has temperature -5.51 F and humidity 91 %\n",
      "homer of lat 59.6425 & -151.5483 has temperature 33.8 F and humidity 86 %\n",
      "raymond terrace of lat -32.75 & 151.75 has temperature 71.01 F and humidity 28 %\n",
      "bahir dar of lat 11.5936 & 37.3908 has temperature 64.65 F and humidity 40 %\n",
      "semey of lat 50.4111 & 80.2275 has temperature -5.8 F and humidity 82 %\n",
      "anshun of lat 26.25 & 105.9333 has temperature 46.36 F and humidity 75 %\n",
      "darhan of lat 49.4867 & 105.9228 has temperature -8.03 F and humidity 84 %\n",
      "sakleshpur of lat 12.9667 & 75.7833 has temperature 64.85 F and humidity 95 %\n",
      "berlevag of lat 70.8578 & 29.0864 has temperature 37.4 F and humidity 87 %\n",
      "havre-saint-pierre of lat 50.2334 & -63.5986 has temperature 24.8 F and humidity 86 %\n",
      "pangai of lat -19.8 & -174.35 has temperature 84.2 F and humidity 79 %\n",
      "clearlake of lat 38.9582 & -122.6264 has temperature 68 F and humidity 41 %\n",
      "isangel of lat -19.55 & 169.2667 has temperature 84.2 F and humidity 89 %\n",
      "khetia of lat 21.6667 & 74.5833 has temperature 72.12 F and humidity 41 %\n",
      "iraray of lat 8.9936 & 118.0511 has temperature 77.25 F and humidity 83 %\n",
      "nemuro of lat 43.3236 & 145.575 has temperature 32.67 F and humidity 98 %\n",
      "ust-nera of lat 64.5667 & 143.2 has temperature -24.72 F and humidity 76 %\n",
      "kongolo of lat -5.3833 & 27 has temperature 66.2 F and humidity 96 %\n",
      "saint-dizier of lat 48.4167 & 5.0833 has temperature 26.01 F and humidity 93 %\n",
      "souillac of lat -20.5167 & 57.5167 has temperature 78.8 F and humidity 89 %\n",
      "zilair of lat 52.2332 & 57.4392 has temperature 15.46 F and humidity 96 %\n",
      "san quintin of lat 30.4833 & -115.95 has temperature 76.26 F and humidity 22 %\n",
      "eenhana of lat -17.4667 & 16.3333 has temperature 80.6 F and humidity 24 %\n",
      "carballo of lat 43.213 & -8.691 has temperature 43 F and humidity 100 %\n",
      "pedasi of lat 7.5333 & -80.0333 has temperature 81.23 F and humidity 72 %\n",
      "piacabucu of lat -10.4056 & -36.4344 has temperature 78.57 F and humidity 75 %\n",
      "bereda of lat 43.2686 & -7.5406 has temperature 37 F and humidity 100 %\n",
      "samarai of lat -10.6167 & 150.6667 has temperature 84.69 F and humidity 72 %\n",
      "belmonte of lat -15.8631 & -38.8828 has temperature 77 F and humidity 83 %\n",
      "kirakira of lat -10.4544 & 161.9205 has temperature 82.9 F and humidity 76 %\n",
      "mabaruma of lat 8.2 & -59.7833 has temperature 75.22 F and humidity 82 %\n",
      "bonthe of lat 7.5264 & -12.505 has temperature 78.71 F and humidity 84 %\n",
      "torbat-e jam of lat 35.244 & 60.6225 has temperature 43.3 F and humidity 49 %\n",
      "japura of lat -0.3167 & 102.35 has temperature 72.63 F and humidity 97 %\n",
      "qidong of lat 31.8128 & 121.6561 has temperature 39.99 F and humidity 77 %\n",
      "pochutla of lat 15.7432 & -96.4661 has temperature 80.6 F and humidity 69 %\n",
      "vardo of lat 70.3705 & 31.1107 has temperature 33.8 F and humidity 86 %\n",
      "san carlos de bariloche of lat -41.1456 & -71.3082 has temperature 55.4 F and humidity 41 %\n",
      "tibati of lat 6.4667 & 12.6333 has temperature 64.31 F and humidity 29 %\n",
      "voznesenye of lat 61.0106 & 35.4781 has temperature -3.6 F and humidity 90 %\n",
      "puerto leguizamo of lat -0.1934 & -74.7819 has temperature 88 F and humidity 56 %\n",
      "bayir of lat 37.2687 & 28.2167 has temperature 37.4 F and humidity 87 %\n",
      "matara of lat 5.9485 & 80.5353 has temperature 75.02 F and humidity 82 %\n",
      "digby of lat 44.6169 & -65.7655 has temperature 35.6 F and humidity 80 %\n",
      "mayumba of lat -3.432 & 10.6554 has temperature 77.97 F and humidity 84 %\n",
      "vestmanna of lat 62.1564 & -7.1664 has temperature 41 F and humidity 87 %\n",
      "vila franca do campo of lat 37.7167 & -25.4333 has temperature 61 F and humidity 88 %\n",
      "frolishchi of lat 56.4211 & 42.6533 has temperature 9.19 F and humidity 95 %\n",
      "abatskoye of lat 56.2875 & 70.4555 has temperature 8.11 F and humidity 92 %\n",
      "sept-iles of lat 50.2001 & -66.3821 has temperature 30.2 F and humidity 74 %\n",
      "fairbanks of lat 64.8378 & -147.7164 has temperature 17.6 F and humidity 73 %\n",
      "maniitsoq of lat 65.4167 & -52.9 has temperature 18.37 F and humidity 86 %\n",
      "necochea of lat -38.5473 & -58.7368 has temperature 79 F and humidity 68 %\n",
      "umm lajj of lat 25.0213 & 37.2685 has temperature 66.94 F and humidity 53 %\n",
      "nanakuli of lat 21.3906 & -158.1547 has temperature 84 F and humidity 57 %\n",
      "namatanai of lat -3.6667 & 152.4333 has temperature 82.72 F and humidity 71 %\n",
      "kota belud of lat 6.351 & 116.4305 has temperature 77 F and humidity 94 %\n",
      "umzimvubu not availble in Weather API\n",
      "sartell of lat 45.6216 & -94.2069 has temperature 34 F and humidity 86 %\n",
      "taywarah of lat 33.35 & 64.4167 has temperature 26.87 F and humidity 69 %\n",
      "seoul of lat 37.5683 & 126.9778 has temperature 24.8 F and humidity 79 %\n",
      "myingyan of lat 21.4667 & 95.3833 has temperature 63.64 F and humidity 53 %\n",
      "namtsy of lat 62.7161 & 129.6658 has temperature -58 F and humidity 51 %\n",
      "nyagan of lat 62.1406 & 65.3936 has temperature -4.45 F and humidity 91 %\n",
      "cerro largo of lat -28.1486 & -54.7381 has temperature 89.01 F and humidity 55 %\n",
      "anshan of lat 41.1236 & 122.99 has temperature -0.72 F and humidity 87 %\n",
      "derzhavinsk of lat 51.1 & 66.3167 has temperature 16.57 F and humidity 91 %\n",
      "mecca of lat 21.4267 & 39.8261 has temperature 70.81 F and humidity 61 %\n",
      "kalabo of lat -14.97 & 22.6814 has temperature 66.65 F and humidity 91 %\n",
      "mayya of lat 61.7333 & 130.2811 has temperature -58 F and humidity 51 %\n",
      "sogdiondon not availble in Weather API\n",
      "beira of lat -19.8436 & 34.8389 has temperature 78.8 F and humidity 94 %\n",
      "kisoro of lat -1.2854 & 29.685 has temperature 56.68 F and humidity 87 %\n",
      "sabha of lat 27.0377 & 14.4283 has temperature 46.2 F and humidity 53 %\n",
      "samalaeulu not availble in Weather API\n",
      "tokur of lat 53.1333 & 132.9 has temperature -30.95 F and humidity 86 %\n",
      "monroe of lat 43.1501 & -77.6831 has temperature 43 F and humidity 65 %\n",
      "chumikan of lat 54.7183 & 135.315 has temperature -20.51 F and humidity 81 %\n",
      "havelock of lat 34.8791 & -76.9013 has temperature 57.2 F and humidity 67 %\n",
      "veinticinco de mayo of lat -35.4323 & -60.1727 has temperature 84 F and humidity 53 %\n",
      "turbo of lat 8.0937 & -76.7269 has temperature 80.46 F and humidity 83 %\n",
      "redcar of lat 54.6166 & -1.06 has temperature 33.01 F and humidity 82 %\n",
      "bonfim of lat 3.0833 & -59.95 has temperature 84.2 F and humidity 70 %\n",
      "tourlaville of lat 49.6383 & -1.5664 has temperature 33.8 F and humidity 80 %\n",
      "acarau of lat -2.8856 & -40.12 has temperature 79.77 F and humidity 80 %\n",
      "pereslavl-zalesskiy of lat 56.7393 & 38.8563 has temperature 0.52 F and humidity 93 %\n",
      "play cu not availble in Weather API\n",
      "sorvag not availble in Weather API\n"
     ]
    },
    {
     "name": "stdout",
     "output_type": "stream",
     "text": [
      "bintulu of lat 3.1667 & 113.0333 has temperature 75.2 F and humidity 94 %\n",
      "batagay of lat 67.6333 & 134.6333 has temperature -33.93 F and humidity 82 %\n",
      "dalnerechensk of lat 45.9339 & 133.7225 has temperature -13.72 F and humidity 88 %\n",
      "obama of lat 35.4958 & 135.746 has temperature 41 F and humidity 87 %\n",
      "trairi of lat -3.2778 & -39.2689 has temperature 79.03 F and humidity 81 %\n",
      "pemangkat of lat 1.1667 & 108.9667 has temperature 76.01 F and humidity 90 %\n",
      "dongargaon of lat 20.9667 & 80.85 has temperature 55.24 F and humidity 41 %\n",
      "sabya of lat 17.1495 & 42.6254 has temperature 75.2 F and humidity 83 %\n",
      "tiarei of lat -17.5333 & -149.3333 has temperature 84.2 F and humidity 65 %\n",
      "pemberton of lat 50.3164 & -122.8027 has temperature 48.99 F and humidity 93 %\n",
      "kuytun of lat 54.3419 & 101.5036 has temperature 3.7 F and humidity 93 %\n",
      "klaksvik of lat 62.2266 & -6.589 has temperature 41 F and humidity 87 %\n",
      "kamenka of lat 51.3223 & 42.7678 has temperature 17.01 F and humidity 92 %\n",
      "lompoc of lat 34.6391 & -120.4579 has temperature 82.4 F and humidity 35 %\n",
      "new glasgow of lat 45.5834 & -62.6486 has temperature 32 F and humidity 86 %\n",
      "manono of lat -7.3 & 27.4167 has temperature 65.98 F and humidity 96 %\n",
      "cabo san lucas of lat 22.8909 & -109.9124 has temperature 80.01 F and humidity 41 %\n",
      "biltine of lat 14.5333 & 20.9167 has temperature 68.18 F and humidity 23 %\n",
      "katsina of lat 12.9894 & 7.6006 has temperature 65.64 F and humidity 25 %\n",
      "adre of lat 13.4667 & 22.2 has temperature 63.19 F and humidity 28 %\n",
      "airai of lat -8.9266 & 125.4092 has temperature 62.73 F and humidity 100 %\n",
      "preobrazheniye of lat 42.9019 & 133.9064 has temperature 11.75 F and humidity 84 %\n",
      "ust-maya of lat 60.4167 & 134.5333 has temperature -44.55 F and humidity 79 %\n",
      "shenjiamen of lat 29.9576 & 122.298 has temperature 45.21 F and humidity 79 %\n",
      "ust-kamchatsk not availble in Weather API\n",
      "ghanzi of lat -21.5667 & 21.7833 has temperature 77.77 F and humidity 51 %\n",
      "verkhnevilyuysk of lat 63.4453 & 120.3167 has temperature -36.2 F and humidity 82 %\n",
      "kadiri of lat 14.1167 & 78.1667 has temperature 66.33 F and humidity 80 %\n",
      "egvekinot of lat 66.3167 & -179.1667 has temperature -6.79 F and humidity 93 %\n",
      "maningrida of lat -12.0667 & 134.2667 has temperature 81.43 F and humidity 80 %\n",
      "berdigestyakh of lat 62.0989 & 126.6992 has temperature -32.42 F and humidity 83 %\n",
      "half moon bay of lat 37.4636 & -122.4286 has temperature 66.99 F and humidity 63 %\n",
      "thinadhoo of lat 0.5333 & 72.9333 has temperature 81.09 F and humidity 76 %\n",
      "papara of lat -3.9839 & -38.7273 has temperature 82.4 F and humidity 74 %\n",
      "nyborg of lat 55.3127 & 10.7896 has temperature 33.01 F and humidity 77 %\n",
      "kununurra of lat -15.7667 & 128.7333 has temperature 82.4 F and humidity 89 %\n",
      "mogadishu of lat 2.0371 & 45.3438 has temperature 76.71 F and humidity 85 %\n",
      "wang saphung of lat 17.301 & 101.7685 has temperature 64.99 F and humidity 100 %\n",
      "thongwa of lat 16.7619 & 96.5278 has temperature 68 F and humidity 83 %\n",
      "yumen of lat 40.2833 & 97.2 has temperature 7.93 F and humidity 76 %\n",
      "fare of lat -16.7 & -151.0167 has temperature 81.43 F and humidity 74 %\n",
      "fayaoue of lat -20.65 & 166.5333 has temperature 81.75 F and humidity 84 %\n",
      "samal of lat 7.0744 & 125.7083 has temperature 75.2 F and humidity 100 %\n",
      "soreang of lat -7.0331 & 107.5183 has temperature 68.61 F and humidity 64 %\n",
      "sisimiut of lat 66.9395 & -53.6735 has temperature 10.36 F and humidity 87 %\n",
      "linxi of lat 39.7 & 118.4333 has temperature 14.38 F and humidity 66 %\n",
      "kashi of lat 39.4547 & 75.9797 has temperature 23 F and humidity 58 %\n",
      "brooks of lat 50.5834 & -111.8851 has temperature 35.6 F and humidity 75 %\n",
      "pathein of lat 16.7833 & 94.7333 has temperature 64.36 F and humidity 86 %\n",
      "hanyang of lat 32.1371 & 105.5126 has temperature 48.99 F and humidity 36 %\n",
      "axim of lat 4.8699 & -2.2405 has temperature 79.23 F and humidity 83 %\n",
      "ruatoria not availble in Weather API\n",
      "acuna not availble in Weather API\n",
      "campos novos of lat -27.4017 & -51.225 has temperature 70 F and humidity 82 %\n",
      "college of lat 64.8569 & -147.8028 has temperature 17.6 F and humidity 67 %\n",
      "yeovil of lat 50.9416 & -2.6321 has temperature 37 F and humidity 93 %\n",
      "temaraia not availble in Weather API\n",
      "okha of lat 53.5739 & 142.9478 has temperature -18.51 F and humidity 86 %\n",
      "laibin of lat 23.7 & 109.2667 has temperature 56.14 F and humidity 41 %\n",
      "boyolangu of lat -8.1181 & 111.8935 has temperature 75.78 F and humidity 83 %\n",
      "artyk not availble in Weather API\n",
      "lilongwe of lat -13.9669 & 33.7873 has temperature 69.64 F and humidity 80 %\n",
      "nouadhibou of lat 20.931 & -17.0347 has temperature 64.4 F and humidity 59 %\n",
      "nara of lat 34.6851 & 135.8049 has temperature 43 F and humidity 93 %\n",
      "ismailia of lat 30.6043 & 32.2723 has temperature 54.52 F and humidity 51 %\n",
      "san patricio of lat 28.017 & -97.5169 has temperature 64.4 F and humidity 16 %\n",
      "liuzhou of lat 24.3126 & 109.3892 has temperature 55.33 F and humidity 43 %\n",
      "parsabad of lat 39.6482 & 47.9174 has temperature 35.6 F and humidity 87 %\n",
      "labuhan of lat -6.8844 & 112.2051 has temperature 77.41 F and humidity 85 %\n",
      "koungou of lat -12.7336 & 45.2042 has temperature 80.6 F and humidity 83 %\n",
      "effium of lat 6.6292 & 8.0593 has temperature 80.15 F and humidity 51 %\n",
      "irituia of lat -1.7711 & -47.4381 has temperature 78.96 F and humidity 78 %\n",
      "husavik of lat 66.0449 & -17.3389 has temperature 39.2 F and humidity 70 %\n",
      "lethem of lat 3.3803 & -59.7968 has temperature 84.2 F and humidity 70 %\n",
      "nha trang of lat 12.25 & 109.1833 has temperature 68 F and humidity 88 %\n",
      "tabas of lat 33.5959 & 56.9244 has temperature 35.6 F and humidity 21 %\n",
      "presidencia roque saenz pena of lat -26.7852 & -60.4388 has temperature 96.8 F and humidity 44 %\n",
      "raudeberg of lat 61.9875 & 5.1352 has temperature 30.2 F and humidity 69 %\n",
      "tezu of lat 27.9167 & 96.1667 has temperature 59.83 F and humidity 53 %\n",
      "praia da vitoria of lat 38.7333 & -27.0667 has temperature 60.01 F and humidity 88 %\n",
      "bubaque of lat 11.2833 & -15.8333 has temperature 78.33 F and humidity 77 %\n",
      "morondava of lat -20.2833 & 44.2833 has temperature 83.28 F and humidity 75 %\n",
      "visby of lat 57.6409 & 18.296 has temperature 30.2 F and humidity 80 %\n",
      "altay of lat 47.8667 & 88.1167 has temperature -2.58 F and humidity 55 %\n",
      "korla of lat 41.7597 & 86.1469 has temperature 16.7 F and humidity 83 %\n",
      "kadykchan not availble in Weather API\n",
      "port lincoln of lat -34.7333 & 135.8667 has temperature 58.15 F and humidity 63 %\n",
      "craig of lat 40.5153 & -107.5464 has temperature 30.2 F and humidity 43 %\n",
      "morehead of lat 37.2711 & -87.1764 has temperature 41 F and humidity 45 %\n",
      "severodvinsk of lat 64.5635 & 39.8302 has temperature -29.2 F and humidity 75 %\n",
      "parkes of lat -33.1333 & 148.1833 has temperature 60.01 F and humidity 50 %\n",
      "tutoia of lat -2.7619 & -42.2744 has temperature 80.06 F and humidity 81 %\n",
      "kenai of lat 60.5544 & -151.2583 has temperature 35.01 F and humidity 69 %\n",
      "sao joao da barra of lat -21.6403 & -41.0511 has temperature 80.6 F and humidity 69 %\n",
      "sorrento of lat 40.626 & 14.3744 has temperature 46.4 F and humidity 61 %\n",
      "palmerston of lat -12.486 & 130.9833 has temperature 80.01 F and humidity 89 %\n",
      "luena of lat -11.7833 & 19.9167 has temperature 62.17 F and humidity 89 %\n",
      "richards bay of lat -28.783 & 32.0377 has temperature 78.19 F and humidity 86 %\n",
      "marevo of lat 57.3146 & 32.0804 has temperature -2.63 F and humidity 90 %\n",
      "det udom of lat 14.906 & 105.0784 has temperature 64.4 F and humidity 88 %\n",
      "teya of lat 60.3778 & 92.6267 has temperature -8.99 F and humidity 87 %\n",
      "el balyana not availble in Weather API\n",
      "auki of lat -8.7676 & 160.7034 has temperature 83.84 F and humidity 70 %\n",
      "sola of lat -13.8833 & 167.55 has temperature 83.39 F and humidity 78 %\n",
      "minden of lat 52.2833 & 8.9167 has temperature 30.2 F and humidity 64 %\n",
      "gorontalo of lat 0.5412 & 123.0595 has temperature 75.42 F and humidity 87 %\n",
      "tessalit of lat 20.1986 & 1.0114 has temperature 60.33 F and humidity 26 %\n",
      "haines junction of lat 60.7522 & -137.5108 has temperature 24.8 F and humidity 86 %\n",
      "taoudenni of lat 22.6783 & -3.9836 has temperature 57 F and humidity 28 %\n",
      "mbandaka of lat 0.0487 & 18.2603 has temperature 75.45 F and humidity 67 %\n",
      "brae of lat 60.3964 & -1.353 has temperature 42.8 F and humidity 81 %\n",
      "nambucca heads of lat -30.65 & 153 has temperature 75.2 F and humidity 57 %\n"
     ]
    },
    {
     "name": "stdout",
     "output_type": "stream",
     "text": [
      "gao of lat 16.6362 & 1.637 has temperature 73.89 F and humidity 19 %\n",
      "price of lat 39.5994 & -110.8107 has temperature 37.4 F and humidity 41 %\n",
      "gat of lat 31.61 & 34.7642 has temperature 53.01 F and humidity 100 %\n",
      "agua dulce of lat 18.1333 & -94.1333 has temperature 75.2 F and humidity 73 %\n",
      "kuching of lat 1.55 & 110.3333 has temperature 73.4 F and humidity 94 %\n",
      "jacala of lat 21.0167 & -99.1833 has temperature 61.77 F and humidity 54 %\n",
      "qaqortoq of lat 60.7167 & -46.0333 has temperature 23 F and humidity 50 %\n",
      "halalo not availble in Weather API\n",
      "namie of lat 37.4833 & 141 has temperature 41 F and humidity 82 %\n",
      "tsabong of lat -26.0217 & 22.401 has temperature 75.74 F and humidity 61 %\n",
      "bac lieu of lat 9.285 & 105.7244 has temperature 73.69 F and humidity 82 %\n",
      "sakakah of lat 29.9697 & 40.2064 has temperature 46.4 F and humidity 66 %\n",
      "katsiveli not availble in Weather API\n",
      "shawnee of lat 39.05 & -95.7669 has temperature 32 F and humidity 80 %\n",
      "dzhebariki-khaya of lat 62.2167 & 135.8 has temperature -46.68 F and humidity 76 %\n",
      "aykhal of lat 66 & 111.5 has temperature -41.31 F and humidity 78 %\n",
      "alexander city of lat 32.944 & -85.9539 has temperature 53.6 F and humidity 17 %\n",
      "boksitogorsk of lat 59.474 & 33.8485 has temperature -8.18 F and humidity 89 %\n",
      "atar of lat 20.5169 & -13.0499 has temperature 64.15 F and humidity 25 %\n",
      "sangmelima of lat 2.9333 & 11.9833 has temperature 71.01 F and humidity 78 %\n",
      "trincomalee of lat 8.5711 & 81.2335 has temperature 78.84 F and humidity 82 %\n",
      "oleksandrivka of lat 48.9634 & 32.2349 has temperature 14.52 F and humidity 93 %\n",
      "koppa of lat 13.5304 & 75.3633 has temperature 66.29 F and humidity 93 %\n",
      "vuktyl of lat 63.8567 & 57.3094 has temperature 5.34 F and humidity 95 %\n",
      "bhadrachalam of lat 17.6667 & 80.8833 has temperature 65.64 F and humidity 94 %\n",
      "mocambique not availble in Weather API\n",
      "kirkuk of lat 35.4681 & 44.3922 has temperature 49.15 F and humidity 63 %\n",
      "kelo of lat 9.3086 & 15.8066 has temperature 72.66 F and humidity 21 %\n",
      "tambopata of lat -12.7333 & -69.1833 has temperature 77.81 F and humidity 94 %\n",
      "urubicha of lat -15.3833 & -62.95 has temperature 77.07 F and humidity 96 %\n",
      "kamina of lat -8.7386 & 24.9906 has temperature 62.38 F and humidity 98 %\n",
      "colares of lat 38.7992 & -9.4469 has temperature 52 F and humidity 93 %\n",
      "xining of lat 36.6167 & 101.7667 has temperature 10.56 F and humidity 91 %\n",
      "melilla of lat 35.2937 & -2.9383 has temperature 50 F and humidity 71 %\n",
      "grand gaube of lat -20.0064 & 57.6608 has temperature 80.01 F and humidity 84 %\n",
      "winnemucca of lat 40.973 & -117.7357 has temperature 51.8 F and humidity 43 %\n",
      "ustka of lat 54.5805 & 16.8619 has temperature 31.55 F and humidity 94 %\n",
      "rocha of lat -34.4833 & -54.3333 has temperature 79.36 F and humidity 66 %\n",
      "batagay-alyta of lat 67.8006 & 130.4114 has temperature -24.05 F and humidity 85 %\n",
      "fort nelson of lat 58.8053 & -122.7002 has temperature 17.6 F and humidity 93 %\n",
      "bichura of lat 50.5881 & 107.6022 has temperature -5.01 F and humidity 85 %\n",
      "baykit of lat 61.67 & 96.37 has temperature -30.75 F and humidity 76 %\n",
      "auray of lat 47.6703 & -2.9918 has temperature 42.01 F and humidity 87 %\n",
      "muborak of lat 39.2553 & 65.1528 has temperature 45.95 F and humidity 52 %\n",
      "bagdarin of lat 54.4333 & 113.6 has temperature -16.29 F and humidity 76 %\n",
      "marawi of lat 7.9986 & 124.2928 has temperature 75 F and humidity 92 %\n",
      "brumunddal of lat 60.881 & 10.9395 has temperature 12.09 F and humidity 88 %\n",
      "corrales of lat 35.2378 & -106.6067 has temperature 55.4 F and humidity 10 %\n",
      "ambilobe of lat -13.2 & 49.05 has temperature 74.8 F and humidity 93 %\n",
      "kulhudhuffushi of lat 6.6221 & 73.07 has temperature 80.8 F and humidity 77 %\n",
      "marcona not availble in Weather API\n"
     ]
    }
   ],
   "source": [
    "lat=[]\n",
    "lng=[]\n",
    "temp = []\n",
    "humidity = []\n",
    "cloudiness =[]\n",
    "wind_speed = []\n",
    "country = []\n",
    "date = []\n",
    "city_new = []\n",
    "index = 0\n",
    "\n",
    "url_base = \"http://api.openweathermap.org/data/2.5/weather?\"\n",
    "\n",
    "print('Begin Info Retreival')\n",
    "\n",
    "for city in cities: #['jamestown']\n",
    "    \n",
    "    try:\n",
    "        url = url_base + \"appid=\" + weather_api_key + \"&q=\" + city + '&units=imperial'\n",
    "\n",
    "        data = requests.get(url).json()\n",
    "\n",
    "        lat.append(data['coord']['lat'])\n",
    "        lng.append(data['coord']['lon'])\n",
    "        temp.append(data['main']['temp_max'])\n",
    "        humidity.append(data['main']['humidity'])\n",
    "        cloudiness.append(data['clouds']['all']) #cloudiness in %\n",
    "        wind_speed.append(data['wind']['speed'])\n",
    "        country.append(data['sys']['country']) \n",
    "        date.append(data['dt'])\n",
    "        city_new.append(city)\n",
    "\n",
    "        print(f'{city} is city number {index}')\n",
    "#         pprint(data)\n",
    "        index = index + 1\n",
    "    except:\n",
    "        print(f'{city} not availble in Weather API')\n",
    "\n",
    "#     time.sleep(1)\n"
   ]
  },
  {
   "cell_type": "markdown",
   "metadata": {},
   "source": [
    "### Convert Raw Data to DataFrame\n",
    "* Export the city data into a .csv.\n",
    "* Display the DataFrame"
   ]
  },
  {
   "cell_type": "code",
   "execution_count": 4,
   "metadata": {},
   "outputs": [
    {
     "data": {
      "text/html": [
       "<div>\n",
       "<style scoped>\n",
       "    .dataframe tbody tr th:only-of-type {\n",
       "        vertical-align: middle;\n",
       "    }\n",
       "\n",
       "    .dataframe tbody tr th {\n",
       "        vertical-align: top;\n",
       "    }\n",
       "\n",
       "    .dataframe thead th {\n",
       "        text-align: right;\n",
       "    }\n",
       "</style>\n",
       "<table border=\"1\" class=\"dataframe\">\n",
       "  <thead>\n",
       "    <tr style=\"text-align: right;\">\n",
       "      <th></th>\n",
       "      <th>City</th>\n",
       "      <th>Lattitude</th>\n",
       "      <th>Longitude</th>\n",
       "      <th>Temp [F]</th>\n",
       "      <th>Humidity [%]</th>\n",
       "      <th>Cloudiness [%]</th>\n",
       "      <th>Wind Speed (mph)</th>\n",
       "      <th>Country</th>\n",
       "      <th>Date</th>\n",
       "    </tr>\n",
       "  </thead>\n",
       "  <tbody>\n",
       "    <tr>\n",
       "      <th>0</th>\n",
       "      <td>ancud</td>\n",
       "      <td>-41.8697</td>\n",
       "      <td>-73.8203</td>\n",
       "      <td>57.20</td>\n",
       "      <td>72</td>\n",
       "      <td>20</td>\n",
       "      <td>3.44</td>\n",
       "      <td>CL</td>\n",
       "      <td>1610749692</td>\n",
       "    </tr>\n",
       "    <tr>\n",
       "      <th>1</th>\n",
       "      <td>tuktoyaktuk</td>\n",
       "      <td>69.4541</td>\n",
       "      <td>-133.0374</td>\n",
       "      <td>-16.60</td>\n",
       "      <td>76</td>\n",
       "      <td>75</td>\n",
       "      <td>17.27</td>\n",
       "      <td>CA</td>\n",
       "      <td>1610749692</td>\n",
       "    </tr>\n",
       "    <tr>\n",
       "      <th>2</th>\n",
       "      <td>chokurdakh</td>\n",
       "      <td>70.6333</td>\n",
       "      <td>147.9167</td>\n",
       "      <td>-5.39</td>\n",
       "      <td>91</td>\n",
       "      <td>100</td>\n",
       "      <td>10.67</td>\n",
       "      <td>RU</td>\n",
       "      <td>1610749692</td>\n",
       "    </tr>\n",
       "    <tr>\n",
       "      <th>3</th>\n",
       "      <td>bengkulu</td>\n",
       "      <td>-3.8004</td>\n",
       "      <td>102.2655</td>\n",
       "      <td>75.63</td>\n",
       "      <td>81</td>\n",
       "      <td>83</td>\n",
       "      <td>4.21</td>\n",
       "      <td>ID</td>\n",
       "      <td>1610749693</td>\n",
       "    </tr>\n",
       "    <tr>\n",
       "      <th>4</th>\n",
       "      <td>lavrentiya</td>\n",
       "      <td>65.5833</td>\n",
       "      <td>-171.0000</td>\n",
       "      <td>3.33</td>\n",
       "      <td>91</td>\n",
       "      <td>100</td>\n",
       "      <td>7.14</td>\n",
       "      <td>RU</td>\n",
       "      <td>1610749693</td>\n",
       "    </tr>\n",
       "  </tbody>\n",
       "</table>\n",
       "</div>"
      ],
      "text/plain": [
       "          City  Lattitude  Longitude  Temp [F]  Humidity [%]  Cloudiness [%]  \\\n",
       "0        ancud   -41.8697   -73.8203     57.20            72              20   \n",
       "1  tuktoyaktuk    69.4541  -133.0374    -16.60            76              75   \n",
       "2   chokurdakh    70.6333   147.9167     -5.39            91             100   \n",
       "3     bengkulu    -3.8004   102.2655     75.63            81              83   \n",
       "4   lavrentiya    65.5833  -171.0000      3.33            91             100   \n",
       "\n",
       "   Wind Speed (mph) Country        Date  \n",
       "0              3.44      CL  1610749692  \n",
       "1             17.27      CA  1610749692  \n",
       "2             10.67      RU  1610749692  \n",
       "3              4.21      ID  1610749693  \n",
       "4              7.14      RU  1610749693  "
      ]
     },
     "execution_count": 4,
     "metadata": {},
     "output_type": "execute_result"
    }
   ],
   "source": [
    "#build dataframe\n",
    "\n",
    "df = pd.DataFrame({'City': city_new, 'Lattitude': lat, 'Longitude': lng, 'Temp [F]': temp, 'Humidity [%]': humidity,\n",
    "                   'Cloudiness [%]': cloudiness, 'Wind Speed (mph)': wind_speed, 'Country': country, 'Date': date})\n",
    "\n",
    "df.to_csv(\"Cities_data.csv\", index=False, header=True)\n",
    "\n",
    "df.head()"
   ]
  },
  {
   "cell_type": "markdown",
   "metadata": {},
   "source": [
    "## Inspect the data and remove the cities where the humidity > 100%.\n",
    "----\n",
    "Skip this step if there are no cities that have humidity > 100%. "
   ]
  },
  {
   "cell_type": "code",
   "execution_count": 5,
   "metadata": {},
   "outputs": [
    {
     "name": "stdout",
     "output_type": "stream",
     "text": [
      "No cities have humidity greater than 100 %\n"
     ]
    }
   ],
   "source": [
    "hum_err = df[df['Humidity [%]'] > 100]\n",
    "\n",
    "if len(hum_err['City']) == 0:\n",
    "    print('No cities have humidity greater than 100 %')"
   ]
  },
  {
   "cell_type": "code",
   "execution_count": 6,
   "metadata": {},
   "outputs": [],
   "source": [
    "#  Get the indices of cities that have humidity over 100%.\n"
   ]
  },
  {
   "cell_type": "code",
   "execution_count": 7,
   "metadata": {},
   "outputs": [],
   "source": [
    "# Make a new DataFrame equal to the city data to drop all humidity outliers by index.\n",
    "# Passing \"inplace=False\" will make a copy of the city_data DataFrame, which we call \"clean_city_data\".\n"
   ]
  },
  {
   "cell_type": "code",
   "execution_count": 8,
   "metadata": {},
   "outputs": [
    {
     "data": {
      "text/html": [
       "<div>\n",
       "<style scoped>\n",
       "    .dataframe tbody tr th:only-of-type {\n",
       "        vertical-align: middle;\n",
       "    }\n",
       "\n",
       "    .dataframe tbody tr th {\n",
       "        vertical-align: top;\n",
       "    }\n",
       "\n",
       "    .dataframe thead th {\n",
       "        text-align: right;\n",
       "    }\n",
       "</style>\n",
       "<table border=\"1\" class=\"dataframe\">\n",
       "  <thead>\n",
       "    <tr style=\"text-align: right;\">\n",
       "      <th></th>\n",
       "      <th>City</th>\n",
       "      <th>Lattitude</th>\n",
       "      <th>Longitude</th>\n",
       "      <th>Temp [F]</th>\n",
       "      <th>Humidity [%]</th>\n",
       "      <th>Cloudiness [%]</th>\n",
       "      <th>Wind Speed (mph)</th>\n",
       "      <th>Country</th>\n",
       "      <th>Date</th>\n",
       "    </tr>\n",
       "  </thead>\n",
       "  <tbody>\n",
       "    <tr>\n",
       "      <th>0</th>\n",
       "      <td>ancud</td>\n",
       "      <td>-41.8697</td>\n",
       "      <td>-73.8203</td>\n",
       "      <td>57.20</td>\n",
       "      <td>72</td>\n",
       "      <td>20</td>\n",
       "      <td>3.44</td>\n",
       "      <td>CL</td>\n",
       "      <td>1610749692</td>\n",
       "    </tr>\n",
       "    <tr>\n",
       "      <th>1</th>\n",
       "      <td>tuktoyaktuk</td>\n",
       "      <td>69.4541</td>\n",
       "      <td>-133.0374</td>\n",
       "      <td>-16.60</td>\n",
       "      <td>76</td>\n",
       "      <td>75</td>\n",
       "      <td>17.27</td>\n",
       "      <td>CA</td>\n",
       "      <td>1610749692</td>\n",
       "    </tr>\n",
       "    <tr>\n",
       "      <th>2</th>\n",
       "      <td>chokurdakh</td>\n",
       "      <td>70.6333</td>\n",
       "      <td>147.9167</td>\n",
       "      <td>-5.39</td>\n",
       "      <td>91</td>\n",
       "      <td>100</td>\n",
       "      <td>10.67</td>\n",
       "      <td>RU</td>\n",
       "      <td>1610749692</td>\n",
       "    </tr>\n",
       "    <tr>\n",
       "      <th>3</th>\n",
       "      <td>bengkulu</td>\n",
       "      <td>-3.8004</td>\n",
       "      <td>102.2655</td>\n",
       "      <td>75.63</td>\n",
       "      <td>81</td>\n",
       "      <td>83</td>\n",
       "      <td>4.21</td>\n",
       "      <td>ID</td>\n",
       "      <td>1610749693</td>\n",
       "    </tr>\n",
       "    <tr>\n",
       "      <th>4</th>\n",
       "      <td>lavrentiya</td>\n",
       "      <td>65.5833</td>\n",
       "      <td>-171.0000</td>\n",
       "      <td>3.33</td>\n",
       "      <td>91</td>\n",
       "      <td>100</td>\n",
       "      <td>7.14</td>\n",
       "      <td>RU</td>\n",
       "      <td>1610749693</td>\n",
       "    </tr>\n",
       "  </tbody>\n",
       "</table>\n",
       "</div>"
      ],
      "text/plain": [
       "          City  Lattitude  Longitude  Temp [F]  Humidity [%]  Cloudiness [%]  \\\n",
       "0        ancud   -41.8697   -73.8203     57.20            72              20   \n",
       "1  tuktoyaktuk    69.4541  -133.0374    -16.60            76              75   \n",
       "2   chokurdakh    70.6333   147.9167     -5.39            91             100   \n",
       "3     bengkulu    -3.8004   102.2655     75.63            81              83   \n",
       "4   lavrentiya    65.5833  -171.0000      3.33            91             100   \n",
       "\n",
       "   Wind Speed (mph) Country        Date  \n",
       "0              3.44      CL  1610749692  \n",
       "1             17.27      CA  1610749692  \n",
       "2             10.67      RU  1610749692  \n",
       "3              4.21      ID  1610749693  \n",
       "4              7.14      RU  1610749693  "
      ]
     },
     "execution_count": 8,
     "metadata": {},
     "output_type": "execute_result"
    }
   ],
   "source": [
    "clean_df = df[df['Humidity [%]'] <= 100]\n",
    "\n",
    "clean_df.head()"
   ]
  },
  {
   "cell_type": "markdown",
   "metadata": {},
   "source": [
    "## Plotting the Data\n",
    "* Use proper labeling of the plots using plot titles (including date of analysis) and axes labels.\n",
    "* Save the plotted figures as .pngs."
   ]
  },
  {
   "cell_type": "markdown",
   "metadata": {},
   "source": [
    "## Latitude vs. Temperature Plot"
   ]
  },
  {
   "cell_type": "code",
   "execution_count": 9,
   "metadata": {
    "scrolled": true
   },
   "outputs": [
    {
     "data": {
      "image/png": "[encoded data removed]",
      "text/plain": [
       "<Figure size 432x288 with 1 Axes>"
      ]
     },
     "metadata": {
      "needs_background": "light"
     },
     "output_type": "display_data"
    },
    {
     "name": "stdout",
     "output_type": "stream",
     "text": [
      "This plot represents the temperature from the southern most city to the northern most city. There seems to be some correlation between lattitude and temperature.\n"
     ]
    }
   ],
   "source": [
    "plt.scatter(clean_df['Lattitude'],clean_df['Temp [F]'])\n",
    "plt.xlabel('Lattitude')\n",
    "plt.ylabel('Temperature [F]')\n",
    "plt.show()\n",
    "print('This plot represents the temperature from the southern most city to the northern most city. There seems to be some correlation between lattitude and temperature.')"
   ]
  },
  {
   "cell_type": "markdown",
   "metadata": {},
   "source": [
    "## Latitude vs. Humidity Plot"
   ]
  },
  {
   "cell_type": "code",
   "execution_count": 10,
   "metadata": {},
   "outputs": [
    {
     "data": {
      "image/png": "[encoded data removed]",
      "text/plain": [
       "<Figure size 432x288 with 1 Axes>"
      ]
     },
     "metadata": {
      "needs_background": "light"
     },
     "output_type": "display_data"
    },
    {
     "name": "stdout",
     "output_type": "stream",
     "text": [
      "This plot shows the humidity relative to each cities lattitude. There seems to be little corelation here.\n"
     ]
    }
   ],
   "source": [
    "plt.scatter(clean_df['Lattitude'],clean_df['Humidity [%]'])\n",
    "plt.xlabel('Lattitude')\n",
    "plt.ylabel('Humidity [%]')\n",
    "plt.show()\n",
    "print('This plot shows the humidity relative to each cities lattitude. There seems to be little corelation here.')"
   ]
  },
  {
   "cell_type": "markdown",
   "metadata": {},
   "source": [
    "## Latitude vs. Cloudiness Plot"
   ]
  },
  {
   "cell_type": "code",
   "execution_count": 11,
   "metadata": {},
   "outputs": [
    {
     "data": {
      "image/png": "[encoded data removed]",
      "text/plain": [
       "<Figure size 432x288 with 1 Axes>"
      ]
     },
     "metadata": {
      "needs_background": "light"
     },
     "output_type": "display_data"
    },
    {
     "name": "stdout",
     "output_type": "stream",
     "text": [
      "This plot shows there is no correlation between cloudiness and a cities lattitude.\n"
     ]
    }
   ],
   "source": [
    "plt.scatter(clean_df['Lattitude'],clean_df['Cloudiness [%]'])\n",
    "plt.xlabel('Lattitude')\n",
    "plt.ylabel('Cloudiness [%]')\n",
    "plt.show()\n",
    "print('This plot shows there is no correlation between cloudiness and a cities lattitude.')"
   ]
  },
  {
   "cell_type": "markdown",
   "metadata": {},
   "source": [
    "## Latitude vs. Wind Speed Plot"
   ]
  },
  {
   "cell_type": "code",
   "execution_count": 12,
   "metadata": {},
   "outputs": [
    {
     "data": {
      "image/png": "[encoded data removed]",
      "text/plain": [
       "<Figure size 432x288 with 1 Axes>"
      ]
     },
     "metadata": {
      "needs_background": "light"
     },
     "output_type": "display_data"
    },
    {
     "name": "stdout",
     "output_type": "stream",
     "text": [
      "This plot shows there is no correlation between a cities lattitude and wind speed.\n"
     ]
    }
   ],
   "source": [
    "plt.scatter(clean_df['Lattitude'],clean_df['Wind Speed (mph)'])\n",
    "plt.xlabel('Lattitude')\n",
    "plt.ylabel('Wind Speed (mph)')\n",
    "plt.show()\n",
    "print('This plot shows there is no correlation between a cities lattitude and wind speed.')"
   ]
  },
  {
   "cell_type": "markdown",
   "metadata": {},
   "source": [
    "## Linear Regression"
   ]
  },
  {
   "cell_type": "code",
   "execution_count": 14,
   "metadata": {},
   "outputs": [
    {
     "data": {
      "text/html": [
       "<div>\n",
       "<style scoped>\n",
       "    .dataframe tbody tr th:only-of-type {\n",
       "        vertical-align: middle;\n",
       "    }\n",
       "\n",
       "    .dataframe tbody tr th {\n",
       "        vertical-align: top;\n",
       "    }\n",
       "\n",
       "    .dataframe thead th {\n",
       "        text-align: right;\n",
       "    }\n",
       "</style>\n",
       "<table border=\"1\" class=\"dataframe\">\n",
       "  <thead>\n",
       "    <tr style=\"text-align: right;\">\n",
       "      <th></th>\n",
       "      <th>City</th>\n",
       "      <th>Lattitude</th>\n",
       "      <th>Longitude</th>\n",
       "      <th>Temp [F]</th>\n",
       "      <th>Humidity [%]</th>\n",
       "      <th>Cloudiness [%]</th>\n",
       "      <th>Wind Speed (mph)</th>\n",
       "      <th>Country</th>\n",
       "      <th>Date</th>\n",
       "    </tr>\n",
       "  </thead>\n",
       "  <tbody>\n",
       "    <tr>\n",
       "      <th>1</th>\n",
       "      <td>tuktoyaktuk</td>\n",
       "      <td>69.4541</td>\n",
       "      <td>-133.0374</td>\n",
       "      <td>-16.60</td>\n",
       "      <td>76</td>\n",
       "      <td>75</td>\n",
       "      <td>17.27</td>\n",
       "      <td>CA</td>\n",
       "      <td>1610749692</td>\n",
       "    </tr>\n",
       "    <tr>\n",
       "      <th>2</th>\n",
       "      <td>chokurdakh</td>\n",
       "      <td>70.6333</td>\n",
       "      <td>147.9167</td>\n",
       "      <td>-5.39</td>\n",
       "      <td>91</td>\n",
       "      <td>100</td>\n",
       "      <td>10.67</td>\n",
       "      <td>RU</td>\n",
       "      <td>1610749692</td>\n",
       "    </tr>\n",
       "    <tr>\n",
       "      <th>4</th>\n",
       "      <td>lavrentiya</td>\n",
       "      <td>65.5833</td>\n",
       "      <td>-171.0000</td>\n",
       "      <td>3.33</td>\n",
       "      <td>91</td>\n",
       "      <td>100</td>\n",
       "      <td>7.14</td>\n",
       "      <td>RU</td>\n",
       "      <td>1610749693</td>\n",
       "    </tr>\n",
       "    <tr>\n",
       "      <th>6</th>\n",
       "      <td>bacong</td>\n",
       "      <td>9.2464</td>\n",
       "      <td>123.2956</td>\n",
       "      <td>78.80</td>\n",
       "      <td>83</td>\n",
       "      <td>20</td>\n",
       "      <td>6.91</td>\n",
       "      <td>PH</td>\n",
       "      <td>1610749693</td>\n",
       "    </tr>\n",
       "    <tr>\n",
       "      <th>9</th>\n",
       "      <td>clyde river</td>\n",
       "      <td>70.4692</td>\n",
       "      <td>-68.5914</td>\n",
       "      <td>-2.20</td>\n",
       "      <td>92</td>\n",
       "      <td>90</td>\n",
       "      <td>2.30</td>\n",
       "      <td>CA</td>\n",
       "      <td>1610749693</td>\n",
       "    </tr>\n",
       "  </tbody>\n",
       "</table>\n",
       "</div>"
      ],
      "text/plain": [
       "          City  Lattitude  Longitude  Temp [F]  Humidity [%]  Cloudiness [%]  \\\n",
       "1  tuktoyaktuk    69.4541  -133.0374    -16.60            76              75   \n",
       "2   chokurdakh    70.6333   147.9167     -5.39            91             100   \n",
       "4   lavrentiya    65.5833  -171.0000      3.33            91             100   \n",
       "6       bacong     9.2464   123.2956     78.80            83              20   \n",
       "9  clyde river    70.4692   -68.5914     -2.20            92              90   \n",
       "\n",
       "   Wind Speed (mph) Country        Date  \n",
       "1             17.27      CA  1610749692  \n",
       "2             10.67      RU  1610749692  \n",
       "4              7.14      RU  1610749693  \n",
       "6              6.91      PH  1610749693  \n",
       "9              2.30      CA  1610749693  "
      ]
     },
     "execution_count": 14,
     "metadata": {},
     "output_type": "execute_result"
    }
   ],
   "source": [
    "#Breakdown into north and south hemispheres\n",
    "\n",
    "north = clean_df[clean_df['Lattitude'] >= 0]\n",
    "south = clean_df[clean_df['Lattitude'] < 0]\n",
    "\n",
    "north.head()"
   ]
  },
  {
   "cell_type": "markdown",
   "metadata": {},
   "source": [
    "####  Northern Hemisphere - Max Temp vs. Latitude Linear Regression"
   ]
  },
  {
   "cell_type": "code",
   "execution_count": 60,
   "metadata": {},
   "outputs": [
    {
     "name": "stdout",
     "output_type": "stream",
     "text": [
      "Slope: -1.37, rvalue: -0.84\n"
     ]
    },
    {
     "data": {
      "image/png": "[encoded data removed]",
      "text/plain": [
       "<Figure size 432x288 with 1 Axes>"
      ]
     },
     "metadata": {
      "needs_background": "light"
     },
     "output_type": "display_data"
    }
   ],
   "source": [
    "(slope, intercept, rvalue, pvalue, stderr) = linregress(north['Lattitude'],north['Temp [F]'])\n",
    "\n",
    "print(f'Slope: {round(slope,2)}, rvalue: {round(rvalue,2)}')\n",
    "\n",
    "regress_values = north['Lattitude'] * slope + intercept\n",
    "line_eq = \"y = \" + str(round(slope,2)) + \"x + \" + str(round(intercept,2))\n",
    "\n",
    "plt.plot(north['Lattitude'] ,regress_values,\"r-\")\n",
    "plt.annotate(line_eq,(0,-50),fontsize=15,color=\"red\")\n",
    "\n",
    "plt.scatter(north['Lattitude'],north['Temp [F]'])\n",
    "plt.xlabel('Lattitude')\n",
    "plt.ylabel('Temp [F]')\n",
    "plt.title('Northern Hemisphere Latitude vs Temp')\n",
    "plt.savefig('Northern Hemisphere Latitude vs Temp.png') #has to be before plt.show()\n",
    "plt.show()\n",
    "\n"
   ]
  },
  {
   "cell_type": "markdown",
   "metadata": {},
   "source": [
    "####  Southern Hemisphere - Max Temp vs. Latitude Linear Regression"
   ]
  },
  {
   "cell_type": "code",
   "execution_count": 61,
   "metadata": {},
   "outputs": [
    {
     "name": "stdout",
     "output_type": "stream",
     "text": [
      "Slope: 0.3, rvalue: 0.47\n"
     ]
    },
    {
     "data": {
      "image/png": "[encoded data removed]",
      "text/plain": [
       "<Figure size 432x288 with 1 Axes>"
      ]
     },
     "metadata": {
      "needs_background": "light"
     },
     "output_type": "display_data"
    },
    {
     "name": "stdout",
     "output_type": "stream",
     "text": [
      "For the Northern Hemisphere, as the latitude the temperature has a tendency to decrease. For the Southern Hemisphere, as latitide decreases, temperature has a tendency to decrease.\n"
     ]
    }
   ],
   "source": [
    "(slope, intercept, rvalue, pvalue, stderr) = linregress(south['Lattitude'],south['Temp [F]'])\n",
    "\n",
    "print(f'Slope: {round(slope,2)}, rvalue: {round(rvalue,2)}')\n",
    "\n",
    "regress_values = south['Lattitude'] * slope + intercept\n",
    "line_eq = \"y = \" + str(round(slope,2)) + \"x + \" + str(round(intercept,2))\n",
    "\n",
    "plt.plot(south['Lattitude'] ,regress_values,\"r-\")\n",
    "plt.annotate(line_eq,(-55,90),fontsize=15,color=\"red\")\n",
    "\n",
    "plt.scatter(south['Lattitude'],south['Temp [F]'])\n",
    "plt.xlabel('Lattitude')\n",
    "plt.ylabel('Temp [F]')\n",
    "plt.title('Southern Hemisphere Latitude vs Temp')\n",
    "plt.savefig('Southern Hemisphere Latitude vs Temp')\n",
    "plt.show()\n",
    "\n",
    "print('For the Northern Hemisphere, as the latitude the temperature has a tendency to decrease. For the Southern Hemisphere, as latitide decreases, temperature has a tendency to decrease.')"
   ]
  },
  {
   "cell_type": "markdown",
   "metadata": {},
   "source": [
    "####  Northern Hemisphere - Humidity (%) vs. Latitude Linear Regression"
   ]
  },
  {
   "cell_type": "code",
   "execution_count": 62,
   "metadata": {},
   "outputs": [
    {
     "name": "stdout",
     "output_type": "stream",
     "text": [
      "Slope: 0.31, rvalue: 0.31\n"
     ]
    },
    {
     "data": {
      "image/png": "[encoded data removed]",
      "text/plain": [
       "<Figure size 432x288 with 1 Axes>"
      ]
     },
     "metadata": {
      "needs_background": "light"
     },
     "output_type": "display_data"
    }
   ],
   "source": [
    "(slope, intercept, rvalue, pvalue, stderr) = linregress(north['Lattitude'],north['Humidity [%]'])\n",
    "\n",
    "print(f'Slope: {round(slope,2)}, rvalue: {round(rvalue,2)}')\n",
    "\n",
    "regress_values = north['Lattitude'] * slope + intercept\n",
    "line_eq = \"y = \" + str(round(slope,2)) + \"x + \" + str(round(intercept,2))\n",
    "\n",
    "plt.plot(north['Lattitude'] ,regress_values,\"r-\")\n",
    "plt.annotate(line_eq,(45,20),fontsize=15,color=\"red\")\n",
    "\n",
    "plt.scatter(north['Lattitude'],north['Humidity [%]'])\n",
    "plt.xlabel('Lattitude')\n",
    "plt.ylabel('Humidity [%]')\n",
    "plt.title('Northern Hemisphere Latitude vs Humidity [%]')\n",
    "plt.savefig('Northern Hemisphere Latitude vs Humidity')\n",
    "plt.show()"
   ]
  },
  {
   "cell_type": "markdown",
   "metadata": {},
   "source": [
    "####  Southern Hemisphere - Humidity (%) vs. Latitude Linear Regression"
   ]
  },
  {
   "cell_type": "code",
   "execution_count": 63,
   "metadata": {},
   "outputs": [
    {
     "name": "stdout",
     "output_type": "stream",
     "text": [
      "Slope: 0.41, rvalue: 0.38\n"
     ]
    },
    {
     "data": {
      "image/png": "[encoded data removed]",
      "text/plain": [
       "<Figure size 432x288 with 1 Axes>"
      ]
     },
     "metadata": {
      "needs_background": "light"
     },
     "output_type": "display_data"
    },
    {
     "name": "stdout",
     "output_type": "stream",
     "text": [
      "These slopes and correlations arent as obvious on these two regressions. There seems to be some trend towards higher humidity as one approaches the equator but no a huge increase.\n"
     ]
    }
   ],
   "source": [
    "(slope, intercept, rvalue, pvalue, stderr) = linregress(south['Lattitude'],south['Humidity [%]'])\n",
    "\n",
    "print(f'Slope: {round(slope,2)}, rvalue: {round(rvalue,2)}')\n",
    "\n",
    "regress_values = south['Lattitude'] * slope + intercept\n",
    "line_eq = \"y = \" + str(round(slope,2)) + \"x + \" + str(round(intercept,2))\n",
    "\n",
    "plt.plot(south['Lattitude'] ,regress_values,\"r-\")\n",
    "plt.annotate(line_eq,(-55,90),fontsize=15,color=\"red\")\n",
    "\n",
    "plt.scatter(south['Lattitude'],south['Humidity [%]'])\n",
    "plt.xlabel('Lattitude')\n",
    "plt.ylabel('Humidity [%]')\n",
    "plt.title('Southern Hemisphere Latitude vs Humidity [%]')\n",
    "plt.savefig('Southern Hemisphere Latitude vs Humidity')\n",
    "plt.show()\n",
    "\n",
    "print('These slopes and correlations aren''t as obvious on these two regressions. There seems to be some trend towards higher humidity as one approaches the equator but no a huge increase.')"
   ]
  },
  {
   "cell_type": "markdown",
   "metadata": {},
   "source": [
    "####  Northern Hemisphere - Cloudiness (%) vs. Latitude Linear Regression"
   ]
  },
  {
   "cell_type": "code",
   "execution_count": 64,
   "metadata": {},
   "outputs": [
    {
     "name": "stdout",
     "output_type": "stream",
     "text": [
      "Slope: 0.62, rvalue: 0.33\n"
     ]
    },
    {
     "data": {
      "image/png": "[encoded data removed]",
      "text/plain": [
       "<Figure size 432x288 with 1 Axes>"
      ]
     },
     "metadata": {
      "needs_background": "light"
     },
     "output_type": "display_data"
    }
   ],
   "source": [
    "(slope, intercept, rvalue, pvalue, stderr) = linregress(north['Lattitude'],north['Cloudiness [%]'])\n",
    "\n",
    "print(f'Slope: {round(slope,2)}, rvalue: {round(rvalue,2)}')\n",
    "\n",
    "regress_values = north['Lattitude'] * slope + intercept\n",
    "line_eq = \"y = \" + str(round(slope,2)) + \"x + \" + str(round(intercept,2))\n",
    "\n",
    "plt.plot(north['Lattitude'] ,regress_values,\"r-\")\n",
    "plt.annotate(line_eq,(45,20),fontsize=15,color=\"red\")\n",
    "\n",
    "plt.scatter(north['Lattitude'],north['Cloudiness [%]'])\n",
    "plt.xlabel('Lattitude')\n",
    "plt.ylabel('Cloudiness [%]')\n",
    "plt.title('Northern Hemisphere Latitude vs Cloudiness [%]')\n",
    "plt.savefig('Northern Hemisphere Latitude vs Cloudiness')\n",
    "plt.show()"
   ]
  },
  {
   "cell_type": "markdown",
   "metadata": {},
   "source": [
    "####  Southern Hemisphere - Cloudiness (%) vs. Latitude Linear Regression"
   ]
  },
  {
   "cell_type": "code",
   "execution_count": 65,
   "metadata": {},
   "outputs": [
    {
     "name": "stdout",
     "output_type": "stream",
     "text": [
      "Slope: 0.82, rvalue: 0.3\n"
     ]
    },
    {
     "data": {
      "image/png": "[encoded data removed]",
      "text/plain": [
       "<Figure size 432x288 with 1 Axes>"
      ]
     },
     "metadata": {
      "needs_background": "light"
     },
     "output_type": "display_data"
    },
    {
     "name": "stdout",
     "output_type": "stream",
     "text": [
      "The correlation between latitude and cloudiness isnt very strong. It seems at all latitudes there are areas with many clouds and areas with few clouds.\n"
     ]
    }
   ],
   "source": [
    "(slope, intercept, rvalue, pvalue, stderr) = linregress(south['Lattitude'],south['Cloudiness [%]'])\n",
    "\n",
    "print(f'Slope: {round(slope,2)}, rvalue: {round(rvalue,2)}')\n",
    "\n",
    "regress_values = south['Lattitude'] * slope + intercept\n",
    "line_eq = \"y = \" + str(round(slope,2)) + \"x + \" + str(round(intercept,2))\n",
    "\n",
    "plt.plot(south['Lattitude'] ,regress_values,\"r-\")\n",
    "plt.annotate(line_eq,(-55,8),fontsize=15,color=\"red\")\n",
    "\n",
    "plt.scatter(south['Lattitude'],south['Cloudiness [%]'])\n",
    "plt.xlabel('Lattitude')\n",
    "plt.ylabel('Cloudiness [%]')\n",
    "plt.title('Southern Hemisphere Latitude vs Cloudiness [%]')\n",
    "plt.savefig('Southern Hemisphere Latitude vs Cloudiness')\n",
    "plt.show()\n",
    "\n",
    "print('The correlation between latitude and cloudiness isn''t very strong. It seems at all latitudes there are areas with many clouds and areas with few clouds.')"
   ]
  },
  {
   "cell_type": "markdown",
   "metadata": {},
   "source": [
    "####  Northern Hemisphere - Wind Speed (mph) vs. Latitude Linear Regression"
   ]
  },
  {
   "cell_type": "code",
   "execution_count": 66,
   "metadata": {},
   "outputs": [
    {
     "name": "stdout",
     "output_type": "stream",
     "text": [
      "Slope: 0.02, rvalue: 0.08\n"
     ]
    },
    {
     "data": {
      "image/png": "[encoded data removed]",
      "text/plain": [
       "<Figure size 432x288 with 1 Axes>"
      ]
     },
     "metadata": {
      "needs_background": "light"
     },
     "output_type": "display_data"
    }
   ],
   "source": [
    "(slope, intercept, rvalue, pvalue, stderr) = linregress(north['Lattitude'],north['Wind Speed (mph)'])\n",
    "\n",
    "print(f'Slope: {round(slope,2)}, rvalue: {round(rvalue,2)}')\n",
    "\n",
    "regress_values = north['Lattitude'] * slope + intercept\n",
    "line_eq = \"y = \" + str(round(slope,2)) + \"x + \" + str(round(intercept,2))\n",
    "\n",
    "plt.plot(north['Lattitude'] ,regress_values,\"r-\")\n",
    "plt.annotate(line_eq,(45,28),fontsize=15,color=\"red\")\n",
    "\n",
    "plt.scatter(north['Lattitude'],north['Wind Speed (mph)'])\n",
    "plt.xlabel('Lattitude')\n",
    "plt.ylabel('Wind Speed (mph)')\n",
    "plt.title('Northern Hemisphere Latitude vs Wind Speed (mph)')\n",
    "plt.savefig('Northern Hemisphere Latitude vs Wind Speed')\n",
    "plt.show()"
   ]
  },
  {
   "cell_type": "markdown",
   "metadata": {},
   "source": [
    "####  Southern Hemisphere - Wind Speed (mph) vs. Latitude Linear Regression"
   ]
  },
  {
   "cell_type": "code",
   "execution_count": 67,
   "metadata": {},
   "outputs": [
    {
     "name": "stdout",
     "output_type": "stream",
     "text": [
      "Slope: -0.12, rvalue: -0.28\n"
     ]
    },
    {
     "data": {
      "image/png": "[encoded data removed]",
      "text/plain": [
       "<Figure size 432x288 with 1 Axes>"
      ]
     },
     "metadata": {
      "needs_background": "light"
     },
     "output_type": "display_data"
    },
    {
     "name": "stdout",
     "output_type": "stream",
     "text": [
      "Wind speed doesnt seem to correlate with latitude either.\n"
     ]
    }
   ],
   "source": [
    "(slope, intercept, rvalue, pvalue, stderr) = linregress(south['Lattitude'],south['Wind Speed (mph)'])\n",
    "\n",
    "print(f'Slope: {round(slope,2)}, rvalue: {round(rvalue,2)}')\n",
    "\n",
    "regress_values = south['Lattitude'] * slope + intercept\n",
    "line_eq = \"y = \" + str(round(slope,2)) + \"x + \" + str(round(intercept,2))\n",
    "\n",
    "plt.plot(south['Lattitude'] ,regress_values,\"r-\")\n",
    "plt.annotate(line_eq,(-55,23),fontsize=15,color=\"red\")\n",
    "\n",
    "plt.scatter(south['Lattitude'],south['Wind Speed (mph)'])\n",
    "plt.xlabel('Lattitude')\n",
    "plt.ylabel('Wind Speed (mph)')\n",
    "plt.title('Southern Hemisphere Latitude vs Wind Speed (mph)')\n",
    "plt.savefig('Southern Hemisphere Latitude vs Wind Speed')\n",
    "plt.show()\n",
    "\n",
    "print('Wind speed doesn''t seem to correlate with latitude either.')"
   ]
  },
  {
   "cell_type": "code",
   "execution_count": null,
   "metadata": {},
   "outputs": [],
   "source": []
  }
 ],
 "metadata": {
  "anaconda-cloud": {},
  "kernel_info": {
   "name": "python3"
  },
  "kernelspec": {
   "display_name": "Python 3",
   "language": "python",
   "name": "python3"
  },
  "language_info": {
   "codemirror_mode": {
    "name": "ipython",
    "version": 3
   },
   "file_extension": ".py",
   "mimetype": "text/x-python",
   "name": "python",
   "nbconvert_exporter": "python",
   "pygments_lexer": "ipython3",
   "version": "3.8.5"
  },
  "latex_envs": {
   "LaTeX_envs_menu_present": true,
   "autoclose": false,
   "autocomplete": true,
   "bibliofile": "biblio.bib",
   "cite_by": "apalike",
   "current_citInitial": 1,
   "eqLabelWithNumbers": true,
   "eqNumInitial": 1,
   "hotkeys": {
    "equation": "Ctrl-E",
    "itemize": "Ctrl-I"
   },
   "labels_anchors": false,
   "latex_user_defs": false,
   "report_style_numbering": false,
   "user_envs_cfg": false
  },
  "nteract": {
   "version": "0.12.3"
  }
 },
 "nbformat": 4,
 "nbformat_minor": 2
}
