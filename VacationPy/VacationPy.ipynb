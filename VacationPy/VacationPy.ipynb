{
 "cells": [
  {
   "cell_type": "markdown",
   "metadata": {},
   "source": [
    "# VacationPy\n",
    "----\n",
    "\n",
    "#### Note\n",
    "* Keep an eye on your API usage. Use https://developers.google.com/maps/reporting/gmp-reporting as reference for how to monitor your usage and billing.\n",
    "\n",
    "* Instructions have been included for each segment. You do not have to follow them exactly, but they are included to help you think through the steps."
   ]
  },
  {
   "cell_type": "code",
   "execution_count": 1,
   "metadata": {},
   "outputs": [],
   "source": [
    "# Dependencies and Setup\n",
    "import matplotlib.pyplot as plt\n",
    "import pandas as pd\n",
    "import numpy as np\n",
    "import requests\n",
    "import gmaps\n",
    "import os\n",
    "from pprint import pprint\n",
    "\n",
    "# Import API key\n",
    "from api_keys import g_key"
   ]
  },
  {
   "cell_type": "markdown",
   "metadata": {},
   "source": [
    "### Store Part I results into DataFrame\n",
    "* Load the csv exported in Part I to a DataFrame"
   ]
  },
  {
   "cell_type": "code",
   "execution_count": 2,
   "metadata": {},
   "outputs": [
    {
     "data": {
      "text/plain": [
       "City                 object\n",
       "Lattitude           float64\n",
       "Longitude           float64\n",
       "Temp [F]            float64\n",
       "Humidity [%]          int64\n",
       "Cloudiness [%]        int64\n",
       "Wind Speed (mph)    float64\n",
       "Country              object\n",
       "Date                  int64\n",
       "dtype: object"
      ]
     },
     "execution_count": 2,
     "metadata": {},
     "output_type": "execute_result"
    }
   ],
   "source": [
    "weather_df = pd.read_csv('../WeatherPy/Cities_data.csv', encoding=\"ISO-8859-1\")\n",
    "\n",
    "weather_df.dtypes"
   ]
  },
  {
   "cell_type": "markdown",
   "metadata": {},
   "source": [
    "### Humidity Heatmap\n",
    "* Configure gmaps.\n",
    "* Use the Lat and Lng as locations and Humidity as the weight.\n",
    "* Add Heatmap layer to map."
   ]
  },
  {
   "cell_type": "code",
   "execution_count": 3,
   "metadata": {},
   "outputs": [
    {
     "data": {
      "application/vnd.jupyter.widget-view+json": {
       "model_id": "631f376431c44d4d8fed782edbb46f55",
       "version_major": 2,
       "version_minor": 0
      },
      "text/plain": [
       "Figure(layout=FigureLayout(height='420px'))"
      ]
     },
     "metadata": {},
     "output_type": "display_data"
    }
   ],
   "source": [
    "gmaps.configure(api_key=g_key)\n",
    "\n",
    "locations = weather_df[['Lattitude', 'Longitude']]\n",
    "humidity = weather_df['Humidity [%]']\n",
    "\n",
    "fig = gmaps.figure()\n",
    "\n",
    "#Figure out how to make the scale more understandable here\n",
    "heat_layer = gmaps.heatmap_layer(locations, weights=humidity, dissipating=False, point_radius=1, max_intensity=max(humidity))\n",
    "\n",
    "fig.add_layer(heat_layer)\n",
    "\n",
    "# Display figure\n",
    "fig"
   ]
  },
  {
   "cell_type": "code",
   "execution_count": null,
   "metadata": {},
   "outputs": [],
   "source": []
  },
  {
   "cell_type": "markdown",
   "metadata": {},
   "source": [
    "### Create new DataFrame fitting weather criteria\n",
    "* Narrow down the cities to fit weather conditions.\n",
    "* Drop any rows will null values."
   ]
  },
  {
   "cell_type": "code",
   "execution_count": 10,
   "metadata": {},
   "outputs": [
    {
     "data": {
      "text/html": [
       "<div>\n",
       "<style scoped>\n",
       "    .dataframe tbody tr th:only-of-type {\n",
       "        vertical-align: middle;\n",
       "    }\n",
       "\n",
       "    .dataframe tbody tr th {\n",
       "        vertical-align: top;\n",
       "    }\n",
       "\n",
       "    .dataframe thead th {\n",
       "        text-align: right;\n",
       "    }\n",
       "</style>\n",
       "<table border=\"1\" class=\"dataframe\">\n",
       "  <thead>\n",
       "    <tr style=\"text-align: right;\">\n",
       "      <th></th>\n",
       "      <th>City</th>\n",
       "      <th>Lattitude</th>\n",
       "      <th>Longitude</th>\n",
       "      <th>Temp [F]</th>\n",
       "      <th>Humidity [%]</th>\n",
       "      <th>Cloudiness [%]</th>\n",
       "      <th>Wind Speed (mph)</th>\n",
       "      <th>Country</th>\n",
       "      <th>Date</th>\n",
       "    </tr>\n",
       "  </thead>\n",
       "  <tbody>\n",
       "    <tr>\n",
       "      <th>34</th>\n",
       "      <td>port macquarie</td>\n",
       "      <td>-31.4333</td>\n",
       "      <td>152.9167</td>\n",
       "      <td>73.99</td>\n",
       "      <td>42</td>\n",
       "      <td>0</td>\n",
       "      <td>1.99</td>\n",
       "      <td>AU</td>\n",
       "      <td>1610749698</td>\n",
       "    </tr>\n",
       "    <tr>\n",
       "      <th>134</th>\n",
       "      <td>saint-pierre</td>\n",
       "      <td>-21.3393</td>\n",
       "      <td>55.4781</td>\n",
       "      <td>78.80</td>\n",
       "      <td>89</td>\n",
       "      <td>0</td>\n",
       "      <td>2.30</td>\n",
       "      <td>RE</td>\n",
       "      <td>1610749711</td>\n",
       "    </tr>\n",
       "    <tr>\n",
       "      <th>137</th>\n",
       "      <td>namibe</td>\n",
       "      <td>-15.1961</td>\n",
       "      <td>12.1522</td>\n",
       "      <td>74.32</td>\n",
       "      <td>68</td>\n",
       "      <td>0</td>\n",
       "      <td>8.01</td>\n",
       "      <td>AO</td>\n",
       "      <td>1610749712</td>\n",
       "    </tr>\n",
       "    <tr>\n",
       "      <th>173</th>\n",
       "      <td>masterton</td>\n",
       "      <td>-40.9597</td>\n",
       "      <td>175.6575</td>\n",
       "      <td>71.01</td>\n",
       "      <td>80</td>\n",
       "      <td>0</td>\n",
       "      <td>3.00</td>\n",
       "      <td>NZ</td>\n",
       "      <td>1610749716</td>\n",
       "    </tr>\n",
       "    <tr>\n",
       "      <th>194</th>\n",
       "      <td>saint-philippe</td>\n",
       "      <td>-21.3585</td>\n",
       "      <td>55.7679</td>\n",
       "      <td>78.80</td>\n",
       "      <td>89</td>\n",
       "      <td>0</td>\n",
       "      <td>2.30</td>\n",
       "      <td>RE</td>\n",
       "      <td>1610749719</td>\n",
       "    </tr>\n",
       "  </tbody>\n",
       "</table>\n",
       "</div>"
      ],
      "text/plain": [
       "               City  Lattitude  Longitude  Temp [F]  Humidity [%]  \\\n",
       "34   port macquarie   -31.4333   152.9167     73.99            42   \n",
       "134    saint-pierre   -21.3393    55.4781     78.80            89   \n",
       "137          namibe   -15.1961    12.1522     74.32            68   \n",
       "173       masterton   -40.9597   175.6575     71.01            80   \n",
       "194  saint-philippe   -21.3585    55.7679     78.80            89   \n",
       "\n",
       "     Cloudiness [%]  Wind Speed (mph) Country        Date  \n",
       "34                0              1.99      AU  1610749698  \n",
       "134               0              2.30      RE  1610749711  \n",
       "137               0              8.01      AO  1610749712  \n",
       "173               0              3.00      NZ  1610749716  \n",
       "194               0              2.30      RE  1610749719  "
      ]
     },
     "execution_count": 10,
     "metadata": {},
     "output_type": "execute_result"
    }
   ],
   "source": [
    "ideal_df = weather_df.loc[(weather_df['Temp [F]'] <= 80) & (weather_df['Temp [F]'] >= 70) & (weather_df['Wind Speed (mph)'] < 10) & (weather_df['Cloudiness [%]'] == 0)]\n",
    "\n",
    "# len(ideal_df)\n",
    "\n",
    "ideal_df.head()"
   ]
  },
  {
   "cell_type": "markdown",
   "metadata": {},
   "source": [
    "### Hotel Map\n",
    "* Store into variable named `hotel_df`.\n",
    "* Add a \"Hotel Name\" column to the DataFrame.\n",
    "* Set parameters to search for hotels with 5000 meters.\n",
    "* Hit the Google Places API for each city's coordinates.\n",
    "* Store the first Hotel result into the DataFrame.\n",
    "* Plot markers on top of the heatmap."
   ]
  },
  {
   "cell_type": "code",
   "execution_count": 20,
   "metadata": {},
   "outputs": [
    {
     "data": {
      "text/html": [
       "<div>\n",
       "<style scoped>\n",
       "    .dataframe tbody tr th:only-of-type {\n",
       "        vertical-align: middle;\n",
       "    }\n",
       "\n",
       "    .dataframe tbody tr th {\n",
       "        vertical-align: top;\n",
       "    }\n",
       "\n",
       "    .dataframe thead th {\n",
       "        text-align: right;\n",
       "    }\n",
       "</style>\n",
       "<table border=\"1\" class=\"dataframe\">\n",
       "  <thead>\n",
       "    <tr style=\"text-align: right;\">\n",
       "      <th></th>\n",
       "      <th>Lattitude</th>\n",
       "      <th>Longitude</th>\n",
       "      <th>City</th>\n",
       "      <th>Country</th>\n",
       "      <th>Hotel Name</th>\n",
       "    </tr>\n",
       "  </thead>\n",
       "  <tbody>\n",
       "    <tr>\n",
       "      <th>34</th>\n",
       "      <td>-31.4333</td>\n",
       "      <td>152.9167</td>\n",
       "      <td>port macquarie</td>\n",
       "      <td>AU</td>\n",
       "      <td>Rydges Port Macquarie</td>\n",
       "    </tr>\n",
       "    <tr>\n",
       "      <th>134</th>\n",
       "      <td>-21.3393</td>\n",
       "      <td>55.4781</td>\n",
       "      <td>saint-pierre</td>\n",
       "      <td>RE</td>\n",
       "      <td>Lindsey Hôtel</td>\n",
       "    </tr>\n",
       "    <tr>\n",
       "      <th>137</th>\n",
       "      <td>-15.1961</td>\n",
       "      <td>12.1522</td>\n",
       "      <td>namibe</td>\n",
       "      <td>AO</td>\n",
       "      <td>Hotel Chik Chik Namibe</td>\n",
       "    </tr>\n",
       "    <tr>\n",
       "      <th>173</th>\n",
       "      <td>-40.9597</td>\n",
       "      <td>175.6575</td>\n",
       "      <td>masterton</td>\n",
       "      <td>NZ</td>\n",
       "      <td>Copthorne Hotel &amp; Resort Solway Park Wairarapa</td>\n",
       "    </tr>\n",
       "    <tr>\n",
       "      <th>194</th>\n",
       "      <td>-21.3585</td>\n",
       "      <td>55.7679</td>\n",
       "      <td>saint-philippe</td>\n",
       "      <td>RE</td>\n",
       "      <td>Chambres d'hôte \"La Trinité\"</td>\n",
       "    </tr>\n",
       "  </tbody>\n",
       "</table>\n",
       "</div>"
      ],
      "text/plain": [
       "     Lattitude  Longitude            City Country  \\\n",
       "34    -31.4333   152.9167  port macquarie      AU   \n",
       "134   -21.3393    55.4781    saint-pierre      RE   \n",
       "137   -15.1961    12.1522          namibe      AO   \n",
       "173   -40.9597   175.6575       masterton      NZ   \n",
       "194   -21.3585    55.7679  saint-philippe      RE   \n",
       "\n",
       "                                         Hotel Name  \n",
       "34                            Rydges Port Macquarie  \n",
       "134                                   Lindsey Hôtel  \n",
       "137                          Hotel Chik Chik Namibe  \n",
       "173  Copthorne Hotel & Resort Solway Park Wairarapa  \n",
       "194                    Chambres d'hôte \"La Trinité\"  "
      ]
     },
     "execution_count": 20,
     "metadata": {},
     "output_type": "execute_result"
    }
   ],
   "source": [
    "hotel_df = ideal_df[['Lattitude', 'Longitude','City', 'Country']].copy()\n",
    "hotel_df['Hotel Name'] = ''\n",
    "\n",
    "\n",
    "params = {\n",
    "    \"radius\": 5000,\n",
    "    \"type\": 'lodging',\n",
    "    \"key\": g_key\n",
    "}\n",
    "\n",
    "for index,row in hotel_df.iterrows(): #['-31.4333,152.9167']\n",
    "    \n",
    "#     print(index)\n",
    "#     print(row)\n",
    "    lat = row['Lattitude']\n",
    "    long = row['Longitude']\n",
    "    params['location'] = f'{lat},{long}'\n",
    "    \n",
    "    \n",
    "    place_url = \"https://maps.googleapis.com/maps/api/place/nearbysearch/json\"\n",
    "    \n",
    "    hotels = requests.get(place_url, params=params).json()\n",
    "    \n",
    "    try:\n",
    "        hotel_df.loc[index, 'Hotel Name'] = hotels['results'][0]['name']\n",
    "    except(KeyError, IndexError):\n",
    "        print('skipping row')\n",
    "        \n",
    "        \n",
    "hotel_df.head()\n",
    "        "
   ]
  },
  {
   "cell_type": "code",
   "execution_count": 22,
   "metadata": {},
   "outputs": [],
   "source": [
    "# NOTE: Do not change any of the code in this cell\n",
    "\n",
    "# Using the template add the hotel marks to the heatmap\n",
    "info_box_template = \"\"\"\n",
    "<dl>\n",
    "<dt>Name</dt><dd>{Hotel Name}</dd>\n",
    "<dt>City</dt><dd>{City}</dd>\n",
    "<dt>Country</dt><dd>{Country}</dd>\n",
    "</dl>\n",
    "\"\"\"\n",
    "# Store the DataFrame Row\n",
    "# NOTE: be sure to update with your DataFrame name\n",
    "hotel_info = [info_box_template.format(**row) for index, row in hotel_df.iterrows()]\n",
    "locations = hotel_df[[\"Lattitude\", \"Longitude\"]]"
   ]
  },
  {
   "cell_type": "code",
   "execution_count": 24,
   "metadata": {},
   "outputs": [
    {
     "data": {
      "application/vnd.jupyter.widget-view+json": {
       "model_id": "631f376431c44d4d8fed782edbb46f55",
       "version_major": 2,
       "version_minor": 0
      },
      "text/plain": [
       "Figure(layout=FigureLayout(height='420px'))"
      ]
     },
     "metadata": {},
     "output_type": "display_data"
    }
   ],
   "source": [
    "# Add marker layer ontop of heat map\n",
    "marker_layer = gmaps.marker_layer(locations, info_box_content = hotel_info)\n",
    "\n",
    "fig.add_layer(marker_layer)\n",
    "\n",
    "# Display figure\n",
    "fig"
   ]
  },
  {
   "cell_type": "code",
   "execution_count": null,
   "metadata": {},
   "outputs": [],
   "source": []
  }
 ],
 "metadata": {
  "kernelspec": {
   "display_name": "Python 3",
   "language": "python",
   "name": "python3"
  },
  "language_info": {
   "codemirror_mode": {
    "name": "ipython",
    "version": 3
   },
   "file_extension": ".py",
   "mimetype": "text/x-python",
   "name": "python",
   "nbconvert_exporter": "python",
   "pygments_lexer": "ipython3",
   "version": "3.8.5"
  },
  "latex_envs": {
   "LaTeX_envs_menu_present": true,
   "autoclose": false,
   "autocomplete": true,
   "bibliofile": "biblio.bib",
   "cite_by": "apalike",
   "current_citInitial": 1,
   "eqLabelWithNumbers": true,
   "eqNumInitial": 1,
   "hotkeys": {
    "equation": "Ctrl-E",
    "itemize": "Ctrl-I"
   },
   "labels_anchors": false,
   "latex_user_defs": false,
   "report_style_numbering": false,
   "user_envs_cfg": false
  }
 },
 "nbformat": 4,
 "nbformat_minor": 4
}
